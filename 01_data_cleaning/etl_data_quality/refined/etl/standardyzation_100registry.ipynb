{
 "cells": [
  {
   "cell_type": "code",
   "execution_count": 1,
   "id": "81174313-5aa2-444b-854c-678e2c713d98",
   "metadata": {
    "scrolled": true
   },
   "outputs": [
    {
     "name": "stderr",
     "output_type": "stream",
     "text": [
      "WARNING: Using incubator modules: jdk.incubator.vector\n",
      "Using Spark's default log4j profile: org/apache/spark/log4j2-defaults.properties\n",
      "25/10/13 20:20:30 WARN Utils: Your hostname, tatiane-Inspiron-3583, resolves to a loopback address: 127.0.1.1; using 192.168.1.52 instead (on interface wlo1)\n",
      "25/10/13 20:20:30 WARN Utils: Set SPARK_LOCAL_IP if you need to bind to another address\n",
      "Using Spark's default log4j profile: org/apache/spark/log4j2-defaults.properties\n",
      "Setting default log level to \"WARN\".\n",
      "To adjust logging level use sc.setLogLevel(newLevel). For SparkR, use setLogLevel(newLevel).\n",
      "25/10/13 20:20:33 WARN NativeCodeLoader: Unable to load native-hadoop library for your platform... using builtin-java classes where applicable\n",
      "----------------------------------------\n",
      "Exception occurred during processing of request from ('127.0.0.1', 41212)\n",
      "Traceback (most recent call last):\n",
      "  File \"/usr/lib/python3.12/socketserver.py\", line 318, in _handle_request_noblock\n",
      "    self.process_request(request, client_address)\n",
      "  File \"/usr/lib/python3.12/socketserver.py\", line 349, in process_request\n",
      "    self.finish_request(request, client_address)\n",
      "  File \"/usr/lib/python3.12/socketserver.py\", line 362, in finish_request\n",
      "    self.RequestHandlerClass(request, client_address, self)\n",
      "  File \"/usr/lib/python3.12/socketserver.py\", line 761, in __init__\n",
      "    self.handle()\n",
      "  File \"/home/tatiane/spark/lib/python3.12/site-packages/pyspark/accumulators.py\", line 299, in handle\n",
      "    poll(accum_updates)\n",
      "  File \"/home/tatiane/spark/lib/python3.12/site-packages/pyspark/accumulators.py\", line 271, in poll\n",
      "    if self.rfile in r and func():\n",
      "                           ^^^^^^\n",
      "  File \"/home/tatiane/spark/lib/python3.12/site-packages/pyspark/accumulators.py\", line 275, in accum_updates\n",
      "    num_updates = read_int(self.rfile)\n",
      "                  ^^^^^^^^^^^^^^^^^^^^\n",
      "  File \"/home/tatiane/spark/lib/python3.12/site-packages/pyspark/serializers.py\", line 597, in read_int\n",
      "    raise EOFError\n",
      "EOFError\n",
      "----------------------------------------\n"
     ]
    }
   ],
   "source": [
    "from pyspark.sql import SparkSession\n",
    "\n",
    "spark = SparkSession.builder.master(\"local[*]\").appName(\"test_session\").getOrCreate()"
   ]
  },
  {
   "cell_type": "code",
   "execution_count": 2,
   "id": "6af6ae1c-d70a-4e69-975d-324801a7031d",
   "metadata": {},
   "outputs": [
    {
     "name": "stdout",
     "output_type": "stream",
     "text": [
      "Tempo inicial da execucao: 2025-10-13 20:20:41.809066\n",
      "User: tatiane\n",
      "Node: tatiane-Inspiron-3583\n"
     ]
    }
   ],
   "source": [
    "import sys, os, time, getpass\n",
    "\n",
    "sys.path.append(\"/home/tatiane/lib/\")\n",
    "\n",
    "import pessoal\n",
    "from pessoal import *\n",
    "#print('AppID: ', sc.applicationId)\n",
    "\n",
    "# Pedir ao spark para exibir só erros, escondendo avisos (WARN) e infos\n",
    "# O correto é resolver a causa como, por exemplo: ordenados = Window.partitionBy().orderBy(dfs[i].columns[0])\n",
    "spark.sparkContext.setLogLevel(\"ERROR\")"
   ]
  },
  {
   "cell_type": "markdown",
   "id": "8dae0345-7489-45e1-ad21-546b93bd50ad",
   "metadata": {},
   "source": [
    "## Leitura"
   ]
  },
  {
   "cell_type": "code",
   "execution_count": 8,
   "id": "245fc9c5-89fa-4182-8912-7a32cb1d0a2a",
   "metadata": {},
   "outputs": [
    {
     "name": "stderr",
     "output_type": "stream",
     "text": [
      "                                                                                "
     ]
    },
    {
     "name": "stdout",
     "output_type": "stream",
     "text": [
      "Qtd. registros: 100 | Quantidade de colunas:  5\n",
      "root\n",
      " |-- nome: string (nullable = true)\n",
      " |-- data_nascimento: string (nullable = true)\n",
      " |-- municipio_nascimento: string (nullable = true)\n",
      " |-- sexo: string (nullable = true)\n",
      " |-- id_unico: integer (nullable = true)\n",
      "\n"
     ]
    }
   ],
   "source": [
    "csv_path = \"/home/tatiane/Downloads/base_dados_suja.csv\"\n",
    "df = spark.read.csv(csv_path, header=True, inferSchema=True)\n",
    "pessoal.completudeSchema(df)"
   ]
  },
  {
   "cell_type": "markdown",
   "id": "f19a6fc4-ddd4-4b5f-b634-9b8083f9e1f5",
   "metadata": {},
   "source": [
    "### Padronização de datas"
   ]
  },
  {
   "cell_type": "code",
   "execution_count": 10,
   "id": "5cdd4f22-fdd9-4ae3-8720-110cfd609eb8",
   "metadata": {},
   "outputs": [],
   "source": [
    "from pyspark.sql import functions as F\n",
    "from pyspark.sql.types import StringType\n",
    "from datetime import datetime\n",
    "import locale\n",
    "from pyspark.sql import DataFrame\n",
    "\n",
    "# Função Python para padronizar datas com formato flexível\n",
    "def parse_date_str(date_str, output_format=\"DD/MM/YYYY\"):\n",
    "    if not date_str:\n",
    "        return None\n",
    "    date_str = str(date_str).strip()\n",
    "    \n",
    "    # Determina o formato de saída\n",
    "    if output_format == \"YYYY/MM/DD\":\n",
    "        fmt_out = \"%Y/%m/%d\"\n",
    "    else:\n",
    "        fmt_out = \"%d/%m/%Y\"\n",
    "    \n",
    "    # Tentar DD/MM/AAAA\n",
    "    try:\n",
    "        return datetime.strptime(date_str, \"%d/%m/%Y\").strftime(fmt_out)\n",
    "    except:\n",
    "        pass\n",
    "\n",
    "    # Tentar AAAA/MM/DD\n",
    "    try:\n",
    "        return datetime.strptime(date_str, \"%Y/%m/%d\").strftime(fmt_out)\n",
    "    except:\n",
    "        pass\n",
    "\n",
    "    # Tentar DD/mês/AAAA em português\n",
    "    try:\n",
    "        locale.setlocale(locale.LC_TIME, 'pt_BR.UTF-8')\n",
    "        return datetime.strptime(date_str, \"%d/%B/%Y\").strftime(fmt_out)\n",
    "    except:\n",
    "        pass\n",
    "\n",
    "    # Tentar DD/mês/AAAA em inglês\n",
    "    try:\n",
    "        locale.setlocale(locale.LC_TIME, 'en_US.UTF-8')\n",
    "        return datetime.strptime(date_str, \"%d/%B/%Y\").strftime(fmt_out)\n",
    "    except:\n",
    "        pass\n",
    "\n",
    "    return None\n",
    "\n",
    "# Registrar como UDF do Spark com parâmetro de formato\n",
    "def create_parse_date_udf(output_format=\"DD/MM/YYYY\"):\n",
    "    return F.udf(lambda x: parse_date_str(x, output_format), StringType())"
   ]
  },
  {
   "cell_type": "code",
   "execution_count": 11,
   "id": "8ee226f7-dd0a-4bfa-8c3a-983922c7ecea",
   "metadata": {},
   "outputs": [],
   "source": [
    "# Função principal para aplicar em um DataFrame\n",
    "def padroniza_datas(df: DataFrame, coluna: str, nova_coluna: str = None, output_format=\"DD/MM/YYYY\") -> DataFrame:\n",
    "    \"\"\"\n",
    "    Padroniza datas de uma coluna para o formato desejado.\n",
    "    \n",
    "    Args:\n",
    "        df: DataFrame do PySpark\n",
    "        coluna: nome da coluna com datas originais\n",
    "        nova_coluna: nome da coluna de saída (default: coluna + '_padronizada')\n",
    "        output_format: \"DD/MM/YYYY\" ou \"YYYY/MM/DD\"\n",
    "        \n",
    "    Returns:\n",
    "        DataFrame com nova coluna de datas padronizadas\n",
    "    \"\"\"\n",
    "    if nova_coluna is None:\n",
    "        nova_coluna = coluna + \"_padronizada\"\n",
    "    \n",
    "    parse_udf = create_parse_date_udf(output_format)\n",
    "    return df.withColumn(nova_coluna, parse_udf(F.col(coluna)))"
   ]
  },
  {
   "cell_type": "code",
   "execution_count": 12,
   "id": "982e0613-19de-43e8-ad78-a3267cba964c",
   "metadata": {
    "scrolled": true
   },
   "outputs": [],
   "source": [
    "df_padronizado = padroniza_datas(df, \"data_nascimento\", output_format=\"YYYY/MM/DD\")"
   ]
  },
  {
   "cell_type": "code",
   "execution_count": 13,
   "id": "6343dc46-7abc-4752-b24f-8a8258377f1e",
   "metadata": {},
   "outputs": [
    {
     "name": "stderr",
     "output_type": "stream",
     "text": [
      "[Stage 6:>                                                          (0 + 1) / 1]"
     ]
    },
    {
     "name": "stdout",
     "output_type": "stream",
     "text": [
      "+-----------------+---------------------------+\n",
      "|data_nascimento  |data_nascimento_padronizada|\n",
      "+-----------------+---------------------------+\n",
      "|15/fevereiro/1997|1997/02/15                 |\n",
      "|2001/07/16       |2001/07/16                 |\n",
      "|12/fevereiro/1973|1973/02/12                 |\n",
      "|1990/06/15       |1990/06/15                 |\n",
      "|08/junho/2010    |2010/06/08                 |\n",
      "|08/junho/1976    |1976/06/08                 |\n",
      "|20/11/2003       |2003/11/20                 |\n",
      "|13/outubro/2008  |2008/10/13                 |\n",
      "|07/01/1971       |1971/01/07                 |\n",
      "|20/10/1997       |1997/10/20                 |\n",
      "+-----------------+---------------------------+\n",
      "only showing top 10 rows\n"
     ]
    },
    {
     "name": "stderr",
     "output_type": "stream",
     "text": [
      "                                                                                "
     ]
    }
   ],
   "source": [
    "df_padronizado.select(\"data_nascimento\", \"data_nascimento_padronizada\").show(10, truncate=False)"
   ]
  },
  {
   "cell_type": "markdown",
   "id": "81de0d4e-6cbb-4730-bfb1-38919db0c218",
   "metadata": {},
   "source": [
    "### Limpeza de nomes"
   ]
  },
  {
   "cell_type": "code",
   "execution_count": 14,
   "id": "8d97d686-a1c9-4e5c-8c2d-c37c47ad594c",
   "metadata": {},
   "outputs": [
    {
     "name": "stdout",
     "output_type": "stream",
     "text": [
      "root\n",
      " |-- nome: string (nullable = true)\n",
      " |-- data_nascimento: string (nullable = true)\n",
      " |-- municipio_nascimento: string (nullable = true)\n",
      " |-- sexo: string (nullable = true)\n",
      " |-- id_unico: integer (nullable = true)\n",
      " |-- data_nascimento_padronizada: string (nullable = true)\n",
      "\n"
     ]
    }
   ],
   "source": [
    "df_padronizado.printSchema()"
   ]
  },
  {
   "cell_type": "code",
   "execution_count": 15,
   "id": "ffafd10f-914f-46ce-8c18-17fd941bed7b",
   "metadata": {
    "scrolled": true
   },
   "outputs": [
    {
     "name": "stdout",
     "output_type": "stream",
     "text": [
      "+-----------------------+\n",
      "|nome                   |\n",
      "+-----------------------+\n",
      "|_ok Pedro Gomes        |\n",
      "|Camila _ok Monteiro    |\n",
      "|_ok Ricardo Teixeira   |\n",
      "|Paula Azevedo NULL     |\n",
      "|Fernanda Martins NULL  |\n",
      "|Rafael Lima            |\n",
      "|NULL Sofia Melo        |\n",
      "|  André Pinto          |\n",
      "|123 Bruno Santos       |\n",
      "|@ Carla Nogueira       |\n",
      "|Maria Silva temp       |\n",
      "|temp Beatriz Costa     |\n",
      "|Ricardo Teixeira       |\n",
      "|teste Camila Monteiro  |\n",
      "|Carla Nogueira         |\n",
      "|### Maria Silva        |\n",
      "|Paula sem dado Azevedo |\n",
      "|Rafael @ Lima          |\n",
      "|Aline Barbosa sem dado |\n",
      "|João Souza             |\n",
      "|Ricardo Teixeira       |\n",
      "|XX Ricardo Teixeira    |\n",
      "|Pedro Gomes            |\n",
      "|Maria Silva            |\n",
      "|Marcos Fernandes       |\n",
      "|Paula sem dado Azevedo |\n",
      "|Bruno Santos           |\n",
      "|André Pinto            |\n",
      "|Beatriz Costa          |\n",
      "|Fernanda Martins temp  |\n",
      "|Carlos Pereira XX      |\n",
      "|NULL Aline Barbosa     |\n",
      "|Fernanda Martins teste |\n",
      "|Ricardo Teixeira 123   |\n",
      "|André Pinto @          |\n",
      "|Juliana Almeida        |\n",
      "|André Pinto            |\n",
      "|Ana 123 Oliveira       |\n",
      "|sem dado Carlos Pereira|\n",
      "|Juliana Almeida        |\n",
      "|teste Paula Azevedo    |\n",
      "|Lucas Rocha            |\n",
      "|Fernanda Martins       |\n",
      "|### Aline Barbosa      |\n",
      "|NULL Felipe Ribeiro    |\n",
      "|Pedro Gomes            |\n",
      "|Pedro Gomes            |\n",
      "|temp Juliana Almeida   |\n",
      "|Lucas Rocha            |\n",
      "|Aline Barbosa          |\n",
      "+-----------------------+\n",
      "only showing top 50 rows\n"
     ]
    }
   ],
   "source": [
    "df_padronizado.select('nome').show(50, truncate=False)"
   ]
  },
  {
   "cell_type": "raw",
   "id": "97ff8eff-5bfb-417f-8a81-1679849e5068",
   "metadata": {},
   "source": [
    "Sujeiras encontradas: @, ###, _ok, XX, teste, 123, sem dado, espaço no inicio da palavra, NULL, temp, -"
   ]
  },
  {
   "cell_type": "code",
   "execution_count": 16,
   "id": "b9246efd-1540-4f1c-9637-54c24f8a8267",
   "metadata": {
    "scrolled": true
   },
   "outputs": [
    {
     "name": "stdout",
     "output_type": "stream",
     "text": [
      "+-----------------------+------------------+\n",
      "|nome                   |nome_novo         |\n",
      "+-----------------------+------------------+\n",
      "|_ok Pedro Gomes        |  Pedro Gomes     |\n",
      "|Camila _ok Monteiro    |Camila   Monteiro |\n",
      "|_ok Ricardo Teixeira   |  Ricardo Teixeira|\n",
      "|Paula Azevedo NULL     |Paula Azevedo     |\n",
      "|Fernanda Martins NULL  |Fernanda Martins  |\n",
      "|Rafael Lima            |Rafael Lima       |\n",
      "|NULL Sofia Melo        |  Sofia Melo      |\n",
      "|  André Pinto          | André Pinto      |\n",
      "|123 Bruno Santos       |  Bruno Santos    |\n",
      "|@ Carla Nogueira       |  Carla Nogueira  |\n",
      "|Maria Silva temp       |Maria Silva       |\n",
      "|temp Beatriz Costa     |  Beatriz Costa   |\n",
      "|Ricardo Teixeira       |Ricardo Teixeira  |\n",
      "|teste Camila Monteiro  |  Camila Monteiro |\n",
      "|Carla Nogueira         |Carla Nogueira    |\n",
      "|### Maria Silva        |  Maria Silva     |\n",
      "|Paula sem dado Azevedo |Paula   Azevedo   |\n",
      "|Rafael @ Lima          |Rafael   Lima     |\n",
      "|Aline Barbosa sem dado |Aline Barbosa     |\n",
      "|João Souza             |João Souza        |\n",
      "|Ricardo Teixeira       |Ricardo Teixeira  |\n",
      "|XX Ricardo Teixeira    |  Ricardo Teixeira|\n",
      "|Pedro Gomes            |Pedro Gomes       |\n",
      "|Maria Silva            |Maria Silva       |\n",
      "|Marcos Fernandes       |Marcos Fernandes  |\n",
      "|Paula sem dado Azevedo |Paula   Azevedo   |\n",
      "|Bruno Santos           |Bruno Santos      |\n",
      "|André Pinto            |André Pinto       |\n",
      "|Beatriz Costa          |Beatriz Costa     |\n",
      "|Fernanda Martins temp  |Fernanda Martins  |\n",
      "|Carlos Pereira XX      |Carlos Pereira    |\n",
      "|NULL Aline Barbosa     |  Aline Barbosa   |\n",
      "|Fernanda Martins teste |Fernanda Martins  |\n",
      "|Ricardo Teixeira 123   |Ricardo Teixeira  |\n",
      "|André Pinto @          |André Pinto       |\n",
      "|Juliana Almeida        |Juliana Almeida   |\n",
      "|André Pinto            |André Pinto       |\n",
      "|Ana 123 Oliveira       |Ana   Oliveira    |\n",
      "|sem dado Carlos Pereira|  Carlos Pereira  |\n",
      "|Juliana Almeida        |Juliana Almeida   |\n",
      "|teste Paula Azevedo    |  Paula Azevedo   |\n",
      "|Lucas Rocha            |Lucas Rocha       |\n",
      "|Fernanda Martins       |Fernanda Martins  |\n",
      "|### Aline Barbosa      |  Aline Barbosa   |\n",
      "|NULL Felipe Ribeiro    |  Felipe Ribeiro  |\n",
      "|Pedro Gomes            |Pedro Gomes       |\n",
      "|Pedro Gomes            |Pedro Gomes       |\n",
      "|temp Juliana Almeida   |  Juliana Almeida |\n",
      "|Lucas Rocha            |Lucas Rocha       |\n",
      "|Aline Barbosa          |Aline Barbosa     |\n",
      "|Camila Monteiro        |Camila Monteiro   |\n",
      "|Rafael Lima            |Rafael Lima       |\n",
      "|Beatriz temp Costa     |Beatriz   Costa   |\n",
      "|Fernanda Martins       |Fernanda Martins  |\n",
      "|Ricardo Teixeira _ok   |Ricardo Teixeira  |\n",
      "|Paula Azevedo ###      |Paula Azevedo     |\n",
      "|Ana Oliveira           |Ana Oliveira      |\n",
      "|123 Felipe Ribeiro     |  Felipe Ribeiro  |\n",
      "|@ André Pinto          |  André Pinto     |\n",
      "|sem dado Carla Nogueira|  Carla Nogueira  |\n",
      "|Rafael Lima -          |Rafael Lima       |\n",
      "|NULL Carla Nogueira    |  Carla Nogueira  |\n",
      "|Felipe Ribeiro         |Felipe Ribeiro    |\n",
      "|Bruno - Santos         |Bruno   Santos    |\n",
      "|Beatriz Costa temp     |Beatriz Costa     |\n",
      "|Beatriz Costa          |Beatriz Costa     |\n",
      "|Pedro Gomes            |Pedro Gomes       |\n",
      "|### Beatriz Costa      |  Beatriz Costa   |\n",
      "|André Pinto XX         |André Pinto       |\n",
      "|Lucas Rocha _ok        |Lucas Rocha       |\n",
      "|Felipe Ribeiro         |Felipe Ribeiro    |\n",
      "|Beatriz Costa          |Beatriz Costa     |\n",
      "|123 Juliana Almeida    |  Juliana Almeida |\n",
      "|Bruno Santos teste     |Bruno Santos      |\n",
      "|  Ricardo Teixeira     | Ricardo Teixeira |\n",
      "|Felipe Ribeiro _ok     |Felipe Ribeiro    |\n",
      "|Marcos Fernandes       |Marcos Fernandes  |\n",
      "|Sofia 123 Melo         |Sofia   Melo      |\n",
      "|### Beatriz Costa      |  Beatriz Costa   |\n",
      "|XX Rafael Lima         |  Rafael Lima     |\n",
      "|- Carla Nogueira       |  Carla Nogueira  |\n",
      "|Fernanda Martins       |Fernanda Martins  |\n",
      "|Paula @ Azevedo        |Paula   Azevedo   |\n",
      "|Lucas temp Rocha       |Lucas   Rocha     |\n",
      "|NULL Juliana Almeida   |  Juliana Almeida |\n",
      "|Juliana Almeida        |Juliana Almeida   |\n",
      "|Sofia Melo             |Sofia Melo        |\n",
      "|123 Fernanda Martins   |  Fernanda Martins|\n",
      "|NULL Lucas Rocha       |  Lucas Rocha     |\n",
      "|_ok Ana Oliveira       |  Ana Oliveira    |\n",
      "|Felipe Ribeiro         |Felipe Ribeiro    |\n",
      "|Sofia   Melo           |Sofia Melo        |\n",
      "|Bruno Santos           |Bruno Santos      |\n",
      "|teste Camila Monteiro  |  Camila Monteiro |\n",
      "|Ana Oliveira           |Ana Oliveira      |\n",
      "|Aline Barbosa          |Aline Barbosa     |\n",
      "|  Paula Azevedo        | Paula Azevedo    |\n",
      "|Fernanda Martins _ok   |Fernanda Martins  |\n",
      "|Sofia Melo             |Sofia Melo        |\n",
      "|Camila Monteiro NULL   |Camila Monteiro   |\n",
      "+-----------------------+------------------+\n",
      "\n"
     ]
    }
   ],
   "source": [
    "# Os espaços não são apagados porque não tem pelo quê substituí-los.\n",
    "lista_expressoes = (r'\\s+', '###', '_ok', '@','XX','teste','123','sem dado', 'NULL', 'temp', '-')\n",
    "\n",
    "df_padronizado.withColumn('nome_novo', F.regexp_replace('nome', '|'.join(lista_expressoes), ' ')).select('nome', 'nome_novo').show(100, False)"
   ]
  },
  {
   "cell_type": "code",
   "execution_count": 17,
   "id": "624e2eee-fe00-4ae1-925e-1c19f80c1267",
   "metadata": {},
   "outputs": [],
   "source": [
    "df_limpeza = df_padronizado.withColumn('nome_novo', F.regexp_replace('nome', '|'.join(lista_expressoes), ' '))"
   ]
  },
  {
   "cell_type": "code",
   "execution_count": 18,
   "id": "d8465569-fd98-410c-b652-9815f151493a",
   "metadata": {
    "scrolled": true
   },
   "outputs": [
    {
     "name": "stdout",
     "output_type": "stream",
     "text": [
      "+-----------------------+------------------+\n",
      "|nome                   |nome_novo         |\n",
      "+-----------------------+------------------+\n",
      "|_ok Pedro Gomes        |  Pedro Gomes     |\n",
      "|Camila _ok Monteiro    |Camila   Monteiro |\n",
      "|_ok Ricardo Teixeira   |  Ricardo Teixeira|\n",
      "|Paula Azevedo NULL     |Paula Azevedo     |\n",
      "|Fernanda Martins NULL  |Fernanda Martins  |\n",
      "|Rafael Lima            |Rafael Lima       |\n",
      "|NULL Sofia Melo        |  Sofia Melo      |\n",
      "|  André Pinto          | André Pinto      |\n",
      "|123 Bruno Santos       |  Bruno Santos    |\n",
      "|@ Carla Nogueira       |  Carla Nogueira  |\n",
      "|Maria Silva temp       |Maria Silva       |\n",
      "|temp Beatriz Costa     |  Beatriz Costa   |\n",
      "|Ricardo Teixeira       |Ricardo Teixeira  |\n",
      "|teste Camila Monteiro  |  Camila Monteiro |\n",
      "|Carla Nogueira         |Carla Nogueira    |\n",
      "|### Maria Silva        |  Maria Silva     |\n",
      "|Paula sem dado Azevedo |Paula   Azevedo   |\n",
      "|Rafael @ Lima          |Rafael   Lima     |\n",
      "|Aline Barbosa sem dado |Aline Barbosa     |\n",
      "|João Souza             |João Souza        |\n",
      "|Ricardo Teixeira       |Ricardo Teixeira  |\n",
      "|XX Ricardo Teixeira    |  Ricardo Teixeira|\n",
      "|Pedro Gomes            |Pedro Gomes       |\n",
      "|Maria Silva            |Maria Silva       |\n",
      "|Marcos Fernandes       |Marcos Fernandes  |\n",
      "|Paula sem dado Azevedo |Paula   Azevedo   |\n",
      "|Bruno Santos           |Bruno Santos      |\n",
      "|André Pinto            |André Pinto       |\n",
      "|Beatriz Costa          |Beatriz Costa     |\n",
      "|Fernanda Martins temp  |Fernanda Martins  |\n",
      "|Carlos Pereira XX      |Carlos Pereira    |\n",
      "|NULL Aline Barbosa     |  Aline Barbosa   |\n",
      "|Fernanda Martins teste |Fernanda Martins  |\n",
      "|Ricardo Teixeira 123   |Ricardo Teixeira  |\n",
      "|André Pinto @          |André Pinto       |\n",
      "|Juliana Almeida        |Juliana Almeida   |\n",
      "|André Pinto            |André Pinto       |\n",
      "|Ana 123 Oliveira       |Ana   Oliveira    |\n",
      "|sem dado Carlos Pereira|  Carlos Pereira  |\n",
      "|Juliana Almeida        |Juliana Almeida   |\n",
      "|teste Paula Azevedo    |  Paula Azevedo   |\n",
      "|Lucas Rocha            |Lucas Rocha       |\n",
      "|Fernanda Martins       |Fernanda Martins  |\n",
      "|### Aline Barbosa      |  Aline Barbosa   |\n",
      "|NULL Felipe Ribeiro    |  Felipe Ribeiro  |\n",
      "|Pedro Gomes            |Pedro Gomes       |\n",
      "|Pedro Gomes            |Pedro Gomes       |\n",
      "|temp Juliana Almeida   |  Juliana Almeida |\n",
      "|Lucas Rocha            |Lucas Rocha       |\n",
      "|Aline Barbosa          |Aline Barbosa     |\n",
      "|Camila Monteiro        |Camila Monteiro   |\n",
      "|Rafael Lima            |Rafael Lima       |\n",
      "|Beatriz temp Costa     |Beatriz   Costa   |\n",
      "|Fernanda Martins       |Fernanda Martins  |\n",
      "|Ricardo Teixeira _ok   |Ricardo Teixeira  |\n",
      "|Paula Azevedo ###      |Paula Azevedo     |\n",
      "|Ana Oliveira           |Ana Oliveira      |\n",
      "|123 Felipe Ribeiro     |  Felipe Ribeiro  |\n",
      "|@ André Pinto          |  André Pinto     |\n",
      "|sem dado Carla Nogueira|  Carla Nogueira  |\n",
      "|Rafael Lima -          |Rafael Lima       |\n",
      "|NULL Carla Nogueira    |  Carla Nogueira  |\n",
      "|Felipe Ribeiro         |Felipe Ribeiro    |\n",
      "|Bruno - Santos         |Bruno   Santos    |\n",
      "|Beatriz Costa temp     |Beatriz Costa     |\n",
      "|Beatriz Costa          |Beatriz Costa     |\n",
      "|Pedro Gomes            |Pedro Gomes       |\n",
      "|### Beatriz Costa      |  Beatriz Costa   |\n",
      "|André Pinto XX         |André Pinto       |\n",
      "|Lucas Rocha _ok        |Lucas Rocha       |\n",
      "|Felipe Ribeiro         |Felipe Ribeiro    |\n",
      "|Beatriz Costa          |Beatriz Costa     |\n",
      "|123 Juliana Almeida    |  Juliana Almeida |\n",
      "|Bruno Santos teste     |Bruno Santos      |\n",
      "|  Ricardo Teixeira     | Ricardo Teixeira |\n",
      "|Felipe Ribeiro _ok     |Felipe Ribeiro    |\n",
      "|Marcos Fernandes       |Marcos Fernandes  |\n",
      "|Sofia 123 Melo         |Sofia   Melo      |\n",
      "|### Beatriz Costa      |  Beatriz Costa   |\n",
      "|XX Rafael Lima         |  Rafael Lima     |\n",
      "|- Carla Nogueira       |  Carla Nogueira  |\n",
      "|Fernanda Martins       |Fernanda Martins  |\n",
      "|Paula @ Azevedo        |Paula   Azevedo   |\n",
      "|Lucas temp Rocha       |Lucas   Rocha     |\n",
      "|NULL Juliana Almeida   |  Juliana Almeida |\n",
      "|Juliana Almeida        |Juliana Almeida   |\n",
      "|Sofia Melo             |Sofia Melo        |\n",
      "|123 Fernanda Martins   |  Fernanda Martins|\n",
      "|NULL Lucas Rocha       |  Lucas Rocha     |\n",
      "|_ok Ana Oliveira       |  Ana Oliveira    |\n",
      "|Felipe Ribeiro         |Felipe Ribeiro    |\n",
      "|Sofia   Melo           |Sofia Melo        |\n",
      "|Bruno Santos           |Bruno Santos      |\n",
      "|teste Camila Monteiro  |  Camila Monteiro |\n",
      "|Ana Oliveira           |Ana Oliveira      |\n",
      "|Aline Barbosa          |Aline Barbosa     |\n",
      "|  Paula Azevedo        | Paula Azevedo    |\n",
      "|Fernanda Martins _ok   |Fernanda Martins  |\n",
      "|Sofia Melo             |Sofia Melo        |\n",
      "|Camila Monteiro NULL   |Camila Monteiro   |\n",
      "+-----------------------+------------------+\n",
      "\n"
     ]
    }
   ],
   "source": [
    "df_limpeza.select('nome', 'nome_novo').show(100, False)"
   ]
  },
  {
   "cell_type": "code",
   "execution_count": 19,
   "id": "477c3555-e6ad-4388-943f-18401fb9f354",
   "metadata": {},
   "outputs": [],
   "source": [
    "df_limpeza = df_limpeza.withColumn(\"nome_novo\", F.regexp_replace(F.col(\"nome_novo\"), r'\\s+', ' '))"
   ]
  },
  {
   "cell_type": "code",
   "execution_count": 20,
   "id": "5f818ef5-bcb8-40f0-a1a6-91403ce07305",
   "metadata": {
    "scrolled": true
   },
   "outputs": [],
   "source": [
    "df_limpeza = df_limpeza.withColumn(\"nome_limpo\", F.trim(F.col(\"nome_novo\")))"
   ]
  },
  {
   "cell_type": "code",
   "execution_count": 21,
   "id": "2d6c4f3f-8b64-4c76-a401-d39c581da4fd",
   "metadata": {
    "scrolled": true
   },
   "outputs": [
    {
     "name": "stdout",
     "output_type": "stream",
     "text": [
      "+-----------------------+-----------------+----------------+\n",
      "|nome                   |nome_novo        |nome_limpo      |\n",
      "+-----------------------+-----------------+----------------+\n",
      "|_ok Pedro Gomes        | Pedro Gomes     |Pedro Gomes     |\n",
      "|Camila _ok Monteiro    |Camila Monteiro  |Camila Monteiro |\n",
      "|_ok Ricardo Teixeira   | Ricardo Teixeira|Ricardo Teixeira|\n",
      "|Paula Azevedo NULL     |Paula Azevedo    |Paula Azevedo   |\n",
      "|Fernanda Martins NULL  |Fernanda Martins |Fernanda Martins|\n",
      "|Rafael Lima            |Rafael Lima      |Rafael Lima     |\n",
      "|NULL Sofia Melo        | Sofia Melo      |Sofia Melo      |\n",
      "|  André Pinto          | André Pinto     |André Pinto     |\n",
      "|123 Bruno Santos       | Bruno Santos    |Bruno Santos    |\n",
      "|@ Carla Nogueira       | Carla Nogueira  |Carla Nogueira  |\n",
      "|Maria Silva temp       |Maria Silva      |Maria Silva     |\n",
      "|temp Beatriz Costa     | Beatriz Costa   |Beatriz Costa   |\n",
      "|Ricardo Teixeira       |Ricardo Teixeira |Ricardo Teixeira|\n",
      "|teste Camila Monteiro  | Camila Monteiro |Camila Monteiro |\n",
      "|Carla Nogueira         |Carla Nogueira   |Carla Nogueira  |\n",
      "|### Maria Silva        | Maria Silva     |Maria Silva     |\n",
      "|Paula sem dado Azevedo |Paula Azevedo    |Paula Azevedo   |\n",
      "|Rafael @ Lima          |Rafael Lima      |Rafael Lima     |\n",
      "|Aline Barbosa sem dado |Aline Barbosa    |Aline Barbosa   |\n",
      "|João Souza             |João Souza       |João Souza      |\n",
      "|Ricardo Teixeira       |Ricardo Teixeira |Ricardo Teixeira|\n",
      "|XX Ricardo Teixeira    | Ricardo Teixeira|Ricardo Teixeira|\n",
      "|Pedro Gomes            |Pedro Gomes      |Pedro Gomes     |\n",
      "|Maria Silva            |Maria Silva      |Maria Silva     |\n",
      "|Marcos Fernandes       |Marcos Fernandes |Marcos Fernandes|\n",
      "|Paula sem dado Azevedo |Paula Azevedo    |Paula Azevedo   |\n",
      "|Bruno Santos           |Bruno Santos     |Bruno Santos    |\n",
      "|André Pinto            |André Pinto      |André Pinto     |\n",
      "|Beatriz Costa          |Beatriz Costa    |Beatriz Costa   |\n",
      "|Fernanda Martins temp  |Fernanda Martins |Fernanda Martins|\n",
      "|Carlos Pereira XX      |Carlos Pereira   |Carlos Pereira  |\n",
      "|NULL Aline Barbosa     | Aline Barbosa   |Aline Barbosa   |\n",
      "|Fernanda Martins teste |Fernanda Martins |Fernanda Martins|\n",
      "|Ricardo Teixeira 123   |Ricardo Teixeira |Ricardo Teixeira|\n",
      "|André Pinto @          |André Pinto      |André Pinto     |\n",
      "|Juliana Almeida        |Juliana Almeida  |Juliana Almeida |\n",
      "|André Pinto            |André Pinto      |André Pinto     |\n",
      "|Ana 123 Oliveira       |Ana Oliveira     |Ana Oliveira    |\n",
      "|sem dado Carlos Pereira| Carlos Pereira  |Carlos Pereira  |\n",
      "|Juliana Almeida        |Juliana Almeida  |Juliana Almeida |\n",
      "|teste Paula Azevedo    | Paula Azevedo   |Paula Azevedo   |\n",
      "|Lucas Rocha            |Lucas Rocha      |Lucas Rocha     |\n",
      "|Fernanda Martins       |Fernanda Martins |Fernanda Martins|\n",
      "|### Aline Barbosa      | Aline Barbosa   |Aline Barbosa   |\n",
      "|NULL Felipe Ribeiro    | Felipe Ribeiro  |Felipe Ribeiro  |\n",
      "|Pedro Gomes            |Pedro Gomes      |Pedro Gomes     |\n",
      "|Pedro Gomes            |Pedro Gomes      |Pedro Gomes     |\n",
      "|temp Juliana Almeida   | Juliana Almeida |Juliana Almeida |\n",
      "|Lucas Rocha            |Lucas Rocha      |Lucas Rocha     |\n",
      "|Aline Barbosa          |Aline Barbosa    |Aline Barbosa   |\n",
      "|Camila Monteiro        |Camila Monteiro  |Camila Monteiro |\n",
      "|Rafael Lima            |Rafael Lima      |Rafael Lima     |\n",
      "|Beatriz temp Costa     |Beatriz Costa    |Beatriz Costa   |\n",
      "|Fernanda Martins       |Fernanda Martins |Fernanda Martins|\n",
      "|Ricardo Teixeira _ok   |Ricardo Teixeira |Ricardo Teixeira|\n",
      "|Paula Azevedo ###      |Paula Azevedo    |Paula Azevedo   |\n",
      "|Ana Oliveira           |Ana Oliveira     |Ana Oliveira    |\n",
      "|123 Felipe Ribeiro     | Felipe Ribeiro  |Felipe Ribeiro  |\n",
      "|@ André Pinto          | André Pinto     |André Pinto     |\n",
      "|sem dado Carla Nogueira| Carla Nogueira  |Carla Nogueira  |\n",
      "|Rafael Lima -          |Rafael Lima      |Rafael Lima     |\n",
      "|NULL Carla Nogueira    | Carla Nogueira  |Carla Nogueira  |\n",
      "|Felipe Ribeiro         |Felipe Ribeiro   |Felipe Ribeiro  |\n",
      "|Bruno - Santos         |Bruno Santos     |Bruno Santos    |\n",
      "|Beatriz Costa temp     |Beatriz Costa    |Beatriz Costa   |\n",
      "|Beatriz Costa          |Beatriz Costa    |Beatriz Costa   |\n",
      "|Pedro Gomes            |Pedro Gomes      |Pedro Gomes     |\n",
      "|### Beatriz Costa      | Beatriz Costa   |Beatriz Costa   |\n",
      "|André Pinto XX         |André Pinto      |André Pinto     |\n",
      "|Lucas Rocha _ok        |Lucas Rocha      |Lucas Rocha     |\n",
      "|Felipe Ribeiro         |Felipe Ribeiro   |Felipe Ribeiro  |\n",
      "|Beatriz Costa          |Beatriz Costa    |Beatriz Costa   |\n",
      "|123 Juliana Almeida    | Juliana Almeida |Juliana Almeida |\n",
      "|Bruno Santos teste     |Bruno Santos     |Bruno Santos    |\n",
      "|  Ricardo Teixeira     | Ricardo Teixeira|Ricardo Teixeira|\n",
      "|Felipe Ribeiro _ok     |Felipe Ribeiro   |Felipe Ribeiro  |\n",
      "|Marcos Fernandes       |Marcos Fernandes |Marcos Fernandes|\n",
      "|Sofia 123 Melo         |Sofia Melo       |Sofia Melo      |\n",
      "|### Beatriz Costa      | Beatriz Costa   |Beatriz Costa   |\n",
      "|XX Rafael Lima         | Rafael Lima     |Rafael Lima     |\n",
      "|- Carla Nogueira       | Carla Nogueira  |Carla Nogueira  |\n",
      "|Fernanda Martins       |Fernanda Martins |Fernanda Martins|\n",
      "|Paula @ Azevedo        |Paula Azevedo    |Paula Azevedo   |\n",
      "|Lucas temp Rocha       |Lucas Rocha      |Lucas Rocha     |\n",
      "|NULL Juliana Almeida   | Juliana Almeida |Juliana Almeida |\n",
      "|Juliana Almeida        |Juliana Almeida  |Juliana Almeida |\n",
      "|Sofia Melo             |Sofia Melo       |Sofia Melo      |\n",
      "|123 Fernanda Martins   | Fernanda Martins|Fernanda Martins|\n",
      "|NULL Lucas Rocha       | Lucas Rocha     |Lucas Rocha     |\n",
      "|_ok Ana Oliveira       | Ana Oliveira    |Ana Oliveira    |\n",
      "|Felipe Ribeiro         |Felipe Ribeiro   |Felipe Ribeiro  |\n",
      "|Sofia   Melo           |Sofia Melo       |Sofia Melo      |\n",
      "|Bruno Santos           |Bruno Santos     |Bruno Santos    |\n",
      "|teste Camila Monteiro  | Camila Monteiro |Camila Monteiro |\n",
      "|Ana Oliveira           |Ana Oliveira     |Ana Oliveira    |\n",
      "|Aline Barbosa          |Aline Barbosa    |Aline Barbosa   |\n",
      "|  Paula Azevedo        | Paula Azevedo   |Paula Azevedo   |\n",
      "|Fernanda Martins _ok   |Fernanda Martins |Fernanda Martins|\n",
      "|Sofia Melo             |Sofia Melo       |Sofia Melo      |\n",
      "|Camila Monteiro NULL   |Camila Monteiro  |Camila Monteiro |\n",
      "+-----------------------+-----------------+----------------+\n",
      "\n"
     ]
    }
   ],
   "source": [
    "df_limpeza.select('nome', 'nome_novo', 'nome_limpo').show(100, False)"
   ]
  },
  {
   "cell_type": "code",
   "execution_count": 22,
   "id": "a89564b2-1590-414c-b1df-e48440412104",
   "metadata": {},
   "outputs": [],
   "source": [
    "df_limpeza = df_limpeza.drop('nome_novo', 'nome', 'data_nascimento')\n",
    "df_limpeza = df_limpeza.withColumnRenamed('nome_limpo', 'nome')\n",
    "df_limpeza = df_limpeza.withColumnRenamed('data_nascimento_padronizada', 'data_nascimento')"
   ]
  },
  {
   "cell_type": "markdown",
   "id": "e65a45f9-693e-43a3-b56d-79821f235c1b",
   "metadata": {},
   "source": [
    "### Escrita da base"
   ]
  },
  {
   "cell_type": "code",
   "execution_count": 23,
   "id": "aa254d45-c371-4dc6-8067-3817d8cc0eca",
   "metadata": {},
   "outputs": [],
   "source": [
    "write_path = '/home/tatiane/Documentos/tratamento_dados/'"
   ]
  },
  {
   "cell_type": "code",
   "execution_count": 24,
   "id": "ada90f78-d1be-4611-b66a-166d2d76e38d",
   "metadata": {},
   "outputs": [
    {
     "name": "stderr",
     "output_type": "stream",
     "text": [
      "                                                                                "
     ]
    },
    {
     "data": {
      "text/plain": [
       "('/home/tatiane/Documentos/tratamento_dados/tratamento_dados.csv',\n",
       " 1.8179035329994804,\n",
       " 1.8559890420001466)"
      ]
     },
     "execution_count": 24,
     "metadata": {},
     "output_type": "execute_result"
    }
   ],
   "source": [
    "writeSingleCsv(df_limpeza, write_path)\n",
    "# arquivo foi renomeado para: base_final.csv"
   ]
  },
  {
   "cell_type": "markdown",
   "id": "e74f3bb9-4e8c-4938-b0c6-fda24d7eb5a5",
   "metadata": {},
   "source": [
    "### Finalização do notebook"
   ]
  },
  {
   "cell_type": "code",
   "execution_count": 25,
   "id": "af0283f3-0acb-4b70-9ea0-694141e783fc",
   "metadata": {},
   "outputs": [
    {
     "name": "stdout",
     "output_type": "stream",
     "text": [
      "Tempo de execucao ate este ponto: 0:00:19.171610\n"
     ]
    }
   ],
   "source": [
    "executionTime()"
   ]
  }
 ],
 "metadata": {
  "kernelspec": {
   "display_name": "Python (Spark Venv)",
   "language": "python",
   "name": "meu_ambiente"
  },
  "language_info": {
   "codemirror_mode": {
    "name": "ipython",
    "version": 3
   },
   "file_extension": ".py",
   "mimetype": "text/x-python",
   "name": "python",
   "nbconvert_exporter": "python",
   "pygments_lexer": "ipython3",
   "version": "3.12.3"
  }
 },
 "nbformat": 4,
 "nbformat_minor": 5
}
