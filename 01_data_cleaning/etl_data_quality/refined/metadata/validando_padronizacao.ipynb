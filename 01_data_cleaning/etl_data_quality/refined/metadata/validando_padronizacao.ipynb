{
 "cells": [
  {
   "cell_type": "code",
   "execution_count": 1,
   "id": "81174313-5aa2-444b-854c-678e2c713d98",
   "metadata": {},
   "outputs": [
    {
     "name": "stderr",
     "output_type": "stream",
     "text": [
      "WARNING: Using incubator modules: jdk.incubator.vector\n",
      "Using Spark's default log4j profile: org/apache/spark/log4j2-defaults.properties\n",
      "25/10/13 22:45:05 WARN Utils: Your hostname, tatiane-Inspiron-3583, resolves to a loopback address: 127.0.1.1; using 192.168.1.52 instead (on interface wlo1)\n",
      "25/10/13 22:45:05 WARN Utils: Set SPARK_LOCAL_IP if you need to bind to another address\n",
      "Using Spark's default log4j profile: org/apache/spark/log4j2-defaults.properties\n",
      "Setting default log level to \"WARN\".\n",
      "To adjust logging level use sc.setLogLevel(newLevel). For SparkR, use setLogLevel(newLevel).\n",
      "25/10/13 22:45:08 WARN NativeCodeLoader: Unable to load native-hadoop library for your platform... using builtin-java classes where applicable\n"
     ]
    }
   ],
   "source": [
    "from pyspark.sql import SparkSession\n",
    "\n",
    "spark = SparkSession.builder.master(\"local[*]\").appName(\"test_session\").getOrCreate()\n",
    "spark.sparkContext.setLogLevel(\"ERROR\")"
   ]
  },
  {
   "cell_type": "code",
   "execution_count": 2,
   "id": "6af6ae1c-d70a-4e69-975d-324801a7031d",
   "metadata": {},
   "outputs": [
    {
     "name": "stdout",
     "output_type": "stream",
     "text": [
      "Tempo inicial da execucao: 2025-10-13 22:45:18.326977\n",
      "User: tatiane\n",
      "Node: tatiane-Inspiron-3583\n"
     ]
    }
   ],
   "source": [
    "import sys, os, time, getpass\n",
    "\n",
    "sys.path.append(\"/home/tatiane/lib/\")\n",
    "\n",
    "import pessoal\n",
    "from pessoal import *\n",
    "#print('AppID: ', sc.applicationId)\n",
    "\n",
    "# Pedir ao spark para exibir só erros, escondendo avisos (WARN) e infos\n",
    "# O correto é resolver a causa como, por exemplo: ordenados = Window.partitionBy().orderBy(dfs[i].columns[0])\n",
    "spark.sparkContext.setLogLevel(\"ERROR\")"
   ]
  },
  {
   "cell_type": "markdown",
   "id": "6bc59b0e-36a6-498a-884a-c46a9f9cf30f",
   "metadata": {},
   "source": [
    "## Leitura dos dataFrames"
   ]
  },
  {
   "cell_type": "code",
   "execution_count": 3,
   "id": "937f5058-db11-470d-a228-ee29f3cb5457",
   "metadata": {},
   "outputs": [],
   "source": [
    "padronizado_path = '/home/tatiane/Documentos/tratamento_dados/tratamento_dados.csv'\n",
    "original_path = '/home/tatiane/Downloads/base_dados_suja.csv'"
   ]
  },
  {
   "cell_type": "code",
   "execution_count": 4,
   "id": "245fc9c5-89fa-4182-8912-7a32cb1d0a2a",
   "metadata": {},
   "outputs": [
    {
     "name": "stderr",
     "output_type": "stream",
     "text": [
      "                                                                                "
     ]
    }
   ],
   "source": [
    "padronizado = spark.read.csv(padronizado_path, header=True, inferSchema=True)\n",
    "original = spark.read.csv(original_path, header=True, inferSchema=True)"
   ]
  },
  {
   "cell_type": "code",
   "execution_count": 5,
   "id": "3baafce2-108c-4dc5-9772-a355f5685aa9",
   "metadata": {},
   "outputs": [
    {
     "name": "stdout",
     "output_type": "stream",
     "text": [
      "Base original \n",
      "Qtd. registros: 100 | Quantidade de colunas:  5\n",
      "root\n",
      " |-- nome: string (nullable = true)\n",
      " |-- data_nascimento: string (nullable = true)\n",
      " |-- municipio_nascimento: string (nullable = true)\n",
      " |-- sexo: string (nullable = true)\n",
      " |-- id_unico: integer (nullable = true)\n",
      "\n",
      "Base tratada \n",
      "Qtd. registros: 100 | Quantidade de colunas:  5\n",
      "root\n",
      " |-- municipio_nascimento: string (nullable = true)\n",
      " |-- sexo: string (nullable = true)\n",
      " |-- id_unico: integer (nullable = true)\n",
      " |-- data_nascimento: string (nullable = true)\n",
      " |-- nome: string (nullable = true)\n",
      "\n"
     ]
    }
   ],
   "source": [
    "print('Base original ')\n",
    "pessoal.completudeSchema(original)\n",
    "print('Base tratada ')\n",
    "pessoal.completudeSchema(padronizado)"
   ]
  },
  {
   "cell_type": "markdown",
   "id": "7c585776-3275-4333-ba05-961c645e5f3e",
   "metadata": {},
   "source": [
    "## Validação de variáveis"
   ]
  },
  {
   "cell_type": "code",
   "execution_count": 6,
   "id": "ee9a282f-746f-494d-af7d-0b45284bfd6d",
   "metadata": {},
   "outputs": [],
   "source": [
    "def validar_colunas(df):\n",
    "    \"\"\"\n",
    "    Retorna um DataFrame com métricas de validação para cada coluna:\n",
    "    - nulos\n",
    "    - preenchidos\n",
    "    - únicos\n",
    "    - duplicados\n",
    "    \"\"\"\n",
    "    total = df.count()\n",
    "    resultado = []\n",
    "\n",
    "    for col in df.columns:\n",
    "        nulos = df.filter(F.col(col).isNull()).count()\n",
    "        preenchidos = total - nulos\n",
    "        unicos = df.select(col).distinct().count()\n",
    "        duplicados = total - unicos\n",
    "        \n",
    "        resultado.append((col, nulos, preenchidos, unicos, duplicados))\n",
    "    \n",
    "    # Criar DataFrame PySpark com resultados\n",
    "    schema = [\"coluna\", \"nulos\", \"preenchidos\", \"unicos\", \"duplicados\"]\n",
    "    return spark.createDataFrame(resultado, schema)"
   ]
  },
  {
   "cell_type": "code",
   "execution_count": 7,
   "id": "28abf326-b4fc-49a6-aec5-2afe493dcdc0",
   "metadata": {
    "scrolled": true
   },
   "outputs": [
    {
     "name": "stdout",
     "output_type": "stream",
     "text": [
      "Base original \n"
     ]
    },
    {
     "name": "stderr",
     "output_type": "stream",
     "text": [
      "                                                                                "
     ]
    },
    {
     "name": "stdout",
     "output_type": "stream",
     "text": [
      "+--------------------+-----+-----------+------+----------+\n",
      "|coluna              |nulos|preenchidos|unicos|duplicados|\n",
      "+--------------------+-----+-----------+------+----------+\n",
      "|nome                |0    |100        |80    |20        |\n",
      "|data_nascimento     |0    |100        |100   |0         |\n",
      "|municipio_nascimento|0    |100        |10    |90        |\n",
      "|sexo                |0    |100        |2     |98        |\n",
      "|id_unico            |0    |100        |100   |0         |\n",
      "+--------------------+-----+-----------+------+----------+\n",
      "\n"
     ]
    }
   ],
   "source": [
    "print('Base original ')\n",
    "original_completude = validar_colunas(original)\n",
    "original_completude.show(truncate=False)"
   ]
  },
  {
   "cell_type": "code",
   "execution_count": 8,
   "id": "aa254d45-c371-4dc6-8067-3817d8cc0eca",
   "metadata": {
    "scrolled": true
   },
   "outputs": [
    {
     "name": "stdout",
     "output_type": "stream",
     "text": [
      "Base tratada \n",
      "+--------------------+-----+-----------+------+----------+\n",
      "|coluna              |nulos|preenchidos|unicos|duplicados|\n",
      "+--------------------+-----+-----------+------+----------+\n",
      "|municipio_nascimento|0    |100        |10    |90        |\n",
      "|sexo                |0    |100        |2     |98        |\n",
      "|id_unico            |0    |100        |100   |0         |\n",
      "|data_nascimento     |0    |100        |100   |0         |\n",
      "|nome                |0    |100        |20    |80        |\n",
      "+--------------------+-----+-----------+------+----------+\n",
      "\n"
     ]
    }
   ],
   "source": [
    "print('Base tratada ')\n",
    "padronizado_completude = validar_colunas(padronizado)\n",
    "padronizado_completude.show(truncate=False)"
   ]
  },
  {
   "cell_type": "markdown",
   "id": "28005645-5d87-4da7-8d78-eb4013bde850",
   "metadata": {},
   "source": [
    "## Validação das datas\n",
    "1. Dividir variaveis por ano, mes e dia\n",
    "2. Contabilizar distribuição de cada um, antes e após padronização\n",
    "3. Máximo e minimo de cada uma das colunas (ano, mes e dia)"
   ]
  },
  {
   "cell_type": "code",
   "execution_count": 9,
   "id": "1dc5b347-55ed-486a-b34a-171e021bb885",
   "metadata": {},
   "outputs": [],
   "source": [
    "from pyspark.sql import functions as F\n",
    "from pyspark.sql.types import StructType, StructField, StringType\n",
    "from pyspark.sql import DataFrame\n",
    "import re\n",
    "\n",
    "# Dicionários de meses por extenso\n",
    "meses_pt = {\n",
    "    \"janeiro\": \"01\",\n",
    "    \"fevereiro\": \"02\",\n",
    "    \"março\": \"03\",\n",
    "    \"abril\": \"04\",\n",
    "    \"maio\": \"05\",\n",
    "    \"junho\": \"06\",\n",
    "    \"julho\": \"07\",\n",
    "    \"agosto\": \"08\",\n",
    "    \"setembro\": \"09\",\n",
    "    \"outubro\": \"10\",\n",
    "    \"novembro\": \"11\",\n",
    "    \"dezembro\": \"12\"\n",
    "}\n",
    "\n",
    "meses_en = {\n",
    "    \"january\": \"01\",\n",
    "    \"february\": \"02\",\n",
    "    \"march\": \"03\",\n",
    "    \"april\": \"04\",\n",
    "    \"may\": \"05\",\n",
    "    \"june\": \"06\",\n",
    "    \"july\": \"07\",\n",
    "    \"august\": \"08\",\n",
    "    \"september\": \"09\",\n",
    "    \"october\": \"10\",\n",
    "    \"november\": \"11\",\n",
    "    \"december\": \"12\"\n",
    "}"
   ]
  },
  {
   "cell_type": "code",
   "execution_count": 10,
   "id": "0918e39a-5141-4b44-8c89-8ab49bee8835",
   "metadata": {},
   "outputs": [],
   "source": [
    "# Função Python para extrair dia, mês e ano originais\n",
    "def extrai_data_original(data_str):\n",
    "    if not data_str:\n",
    "        return None, None, None\n",
    "    s = str(data_str).strip()\n",
    "    \n",
    "    # DD/MM/YYYY\n",
    "    m1 = re.match(r\"(\\d{1,2})/(\\d{1,2})/(\\d{4})$\", s)\n",
    "    if m1:\n",
    "        return m1.group(1), m1.group(2), m1.group(3)\n",
    "    \n",
    "    # YYYY/MM/DD\n",
    "    m2 = re.match(r\"(\\d{4})/(\\d{1,2})/(\\d{1,2})$\", s)\n",
    "    if m2:\n",
    "        return m2.group(3), m2.group(2), m2.group(1)\n",
    "    \n",
    "    # DD/mês/AAAA (pt ou en)\n",
    "    m3 = re.match(r\"(\\d{1,2})/([a-zA-Z]+)/(\\d{4})$\", s)\n",
    "    if m3:\n",
    "        dia = m3.group(1)\n",
    "        mes_str = m3.group(2).lower()\n",
    "        ano = m3.group(3)\n",
    "        if mes_str in meses_pt:\n",
    "            mes = meses_pt[mes_str]\n",
    "        elif mes_str in meses_en:\n",
    "            mes = meses_en[mes_str]\n",
    "        else:\n",
    "            mes = mes_str  # se não reconhecido, mantém como veio\n",
    "        return dia, mes, ano\n",
    "    \n",
    "    return None, None, None"
   ]
  },
  {
   "cell_type": "code",
   "execution_count": 11,
   "id": "fbd09701-56e2-4572-a462-bfa1dfacdbaa",
   "metadata": {},
   "outputs": [],
   "source": [
    "# Definir schema do struct\n",
    "schema = StructType([\n",
    "    StructField(\"dia\", StringType(), True),\n",
    "    StructField(\"mes\", StringType(), True),\n",
    "    StructField(\"ano\", StringType(), True)\n",
    "])\n",
    "\n",
    "# Registrar UDF\n",
    "extrai_udf = F.udf(extrai_data_original, schema)\n",
    "\n",
    "# Aplicar ao DataFrame\n",
    "def separar_data_original(df: DataFrame, coluna: str) -> DataFrame:\n",
    "    df = df.withColumn(\"data_sep\", extrai_udf(F.col(coluna)))\n",
    "    df = df.withColumn(\"dia\", F.col(\"data_sep.dia\")) \\\n",
    "           .withColumn(\"mes\", F.col(\"data_sep.mes\")) \\\n",
    "           .withColumn(\"ano\", F.col(\"data_sep.ano\")) \\\n",
    "           .drop(\"data_sep\")\n",
    "    return df\n"
   ]
  },
  {
   "cell_type": "code",
   "execution_count": 12,
   "id": "d64d1407-62d5-4efa-a924-7bd2cda3c8cf",
   "metadata": {},
   "outputs": [
    {
     "name": "stderr",
     "output_type": "stream",
     "text": [
      "[Stage 112:>                                                        (0 + 1) / 1]"
     ]
    },
    {
     "name": "stdout",
     "output_type": "stream",
     "text": [
      "+-----------------+---+---+----+\n",
      "|data_nascimento  |dia|mes|ano |\n",
      "+-----------------+---+---+----+\n",
      "|15/fevereiro/1997|15 |02 |1997|\n",
      "|2001/07/16       |16 |07 |2001|\n",
      "|12/fevereiro/1973|12 |02 |1973|\n",
      "|1990/06/15       |15 |06 |1990|\n",
      "|08/junho/2010    |08 |06 |2010|\n",
      "|08/junho/1976    |08 |06 |1976|\n",
      "|20/11/2003       |20 |11 |2003|\n",
      "|13/outubro/2008  |13 |10 |2008|\n",
      "|07/01/1971       |07 |01 |1971|\n",
      "|20/10/1997       |20 |10 |1997|\n",
      "|1985/11/09       |09 |11 |1985|\n",
      "|06/fevereiro/2002|06 |02 |2002|\n",
      "|16/janeiro/1978  |16 |01 |1978|\n",
      "|04/08/1997       |04 |08 |1997|\n",
      "|15/fevereiro/2010|15 |02 |2010|\n",
      "|24/dezembro/1976 |24 |12 |1976|\n",
      "|10/setembro/1974 |10 |09 |1974|\n",
      "|1994/12/27       |27 |12 |1994|\n",
      "|2009/08/26       |26 |08 |2009|\n",
      "|26/05/1978       |26 |05 |1978|\n",
      "+-----------------+---+---+----+\n",
      "only showing top 20 rows\n"
     ]
    },
    {
     "name": "stderr",
     "output_type": "stream",
     "text": [
      "                                                                                "
     ]
    }
   ],
   "source": [
    "original = separar_data_original(original, \"data_nascimento\")\n",
    "original.select(\"data_nascimento\", \"dia\", \"mes\", \"ano\").show(truncate=False)"
   ]
  },
  {
   "cell_type": "code",
   "execution_count": 13,
   "id": "0124e086-4d90-4f43-8618-f1e53c861350",
   "metadata": {},
   "outputs": [
    {
     "name": "stdout",
     "output_type": "stream",
     "text": [
      "+---------------+---+---+----+\n",
      "|data_nascimento|dia|mes|ano |\n",
      "+---------------+---+---+----+\n",
      "|1997/02/15     |15 |02 |1997|\n",
      "|2001/07/16     |16 |07 |2001|\n",
      "|1973/02/12     |12 |02 |1973|\n",
      "|1990/06/15     |15 |06 |1990|\n",
      "|2010/06/08     |08 |06 |2010|\n",
      "|1976/06/08     |08 |06 |1976|\n",
      "|2003/11/20     |20 |11 |2003|\n",
      "|2008/10/13     |13 |10 |2008|\n",
      "|1971/01/07     |07 |01 |1971|\n",
      "|1997/10/20     |20 |10 |1997|\n",
      "|1985/11/09     |09 |11 |1985|\n",
      "|2002/02/06     |06 |02 |2002|\n",
      "|1978/01/16     |16 |01 |1978|\n",
      "|1997/08/04     |04 |08 |1997|\n",
      "|2010/02/15     |15 |02 |2010|\n",
      "|1976/12/24     |24 |12 |1976|\n",
      "|1974/09/10     |10 |09 |1974|\n",
      "|1994/12/27     |27 |12 |1994|\n",
      "|2009/08/26     |26 |08 |2009|\n",
      "|1978/05/26     |26 |05 |1978|\n",
      "+---------------+---+---+----+\n",
      "only showing top 20 rows\n"
     ]
    }
   ],
   "source": [
    "padronizado = separar_data_original(padronizado, \"data_nascimento\")\n",
    "padronizado.select(\"data_nascimento\", \"dia\", \"mes\", \"ano\").show(truncate=False)"
   ]
  },
  {
   "cell_type": "code",
   "execution_count": 14,
   "id": "4d9d6ed1-d148-4986-b99d-e438e49060e3",
   "metadata": {},
   "outputs": [
    {
     "name": "stdout",
     "output_type": "stream",
     "text": [
      "Base original \n",
      "Qtd. registros: 100 | Quantidade de colunas:  8\n",
      "root\n",
      " |-- nome: string (nullable = true)\n",
      " |-- data_nascimento: string (nullable = true)\n",
      " |-- municipio_nascimento: string (nullable = true)\n",
      " |-- sexo: string (nullable = true)\n",
      " |-- id_unico: integer (nullable = true)\n",
      " |-- dia: string (nullable = true)\n",
      " |-- mes: string (nullable = true)\n",
      " |-- ano: string (nullable = true)\n",
      "\n",
      "Base tratada \n",
      "Qtd. registros: 100 | Quantidade de colunas:  8\n",
      "root\n",
      " |-- municipio_nascimento: string (nullable = true)\n",
      " |-- sexo: string (nullable = true)\n",
      " |-- id_unico: integer (nullable = true)\n",
      " |-- data_nascimento: string (nullable = true)\n",
      " |-- nome: string (nullable = true)\n",
      " |-- dia: string (nullable = true)\n",
      " |-- mes: string (nullable = true)\n",
      " |-- ano: string (nullable = true)\n",
      "\n"
     ]
    }
   ],
   "source": [
    "print('Base original ')\n",
    "pessoal.completudeSchema(original)\n",
    "print('Base tratada ')\n",
    "pessoal.completudeSchema(padronizado)"
   ]
  },
  {
   "cell_type": "markdown",
   "id": "1ddadb97-aafc-404b-9198-897e7e29f233",
   "metadata": {},
   "source": [
    "2. Contabilizar distribuição de cada um, antes e após padronização"
   ]
  },
  {
   "cell_type": "code",
   "execution_count": 15,
   "id": "02da7e49-a797-44f8-9d09-92861d9bddea",
   "metadata": {
    "scrolled": true
   },
   "outputs": [
    {
     "name": "stderr",
     "output_type": "stream",
     "text": [
      "                                                                                "
     ]
    },
    {
     "name": "stdout",
     "output_type": "stream",
     "text": [
      "+----+------------+---------------+\n",
      "| ano|qtd_original|qtd_padronizada|\n",
      "+----+------------+---------------+\n",
      "|NULL|           2|           NULL|\n",
      "|1970|           1|              1|\n",
      "|1971|           1|              1|\n",
      "|1973|           4|              5|\n",
      "|1974|           4|              4|\n",
      "|1975|           1|              1|\n",
      "|1976|           5|              5|\n",
      "|1977|           1|              1|\n",
      "|1978|           3|              3|\n",
      "|1979|           2|              2|\n",
      "|1980|           2|              2|\n",
      "|1981|           2|              2|\n",
      "|1982|           4|              4|\n",
      "|1984|           3|              3|\n",
      "|1985|           8|              8|\n",
      "|1986|           2|              2|\n",
      "|1987|           2|              2|\n",
      "|1988|           1|              1|\n",
      "|1989|           2|              2|\n",
      "|1990|           3|              3|\n",
      "+----+------------+---------------+\n",
      "only showing top 20 rows\n",
      "+----+------------+---------------+\n",
      "| mes|qtd_original|qtd_padronizada|\n",
      "+----+------------+---------------+\n",
      "|NULL|           2|           NULL|\n",
      "|  01|          10|             10|\n",
      "|  02|          11|             11|\n",
      "|  03|           3|              5|\n",
      "|  04|           9|              9|\n",
      "|  05|           9|              9|\n",
      "|  06|           9|              9|\n",
      "|  07|           8|              8|\n",
      "|  08|           9|              9|\n",
      "|  09|           6|              6|\n",
      "|  10|           7|              7|\n",
      "|  11|           9|              9|\n",
      "|  12|           8|              8|\n",
      "+----+------------+---------------+\n",
      "\n",
      "+----+------------+---------------+\n",
      "| dia|qtd_original|qtd_padronizada|\n",
      "+----+------------+---------------+\n",
      "|NULL|           2|           NULL|\n",
      "|  01|           1|              1|\n",
      "|  02|           4|              4|\n",
      "|  03|           1|              1|\n",
      "|  04|           5|              6|\n",
      "|  05|           2|              2|\n",
      "|  06|           3|              3|\n",
      "|  07|           4|              4|\n",
      "|  08|           6|              6|\n",
      "|  09|           7|              7|\n",
      "|  10|           3|              3|\n",
      "|  11|           4|              4|\n",
      "|  12|           3|              3|\n",
      "|  13|           4|              5|\n",
      "|  14|           2|              2|\n",
      "|  15|           8|              8|\n",
      "|  16|           6|              6|\n",
      "|  17|           6|              6|\n",
      "|  18|           1|              1|\n",
      "|  20|           4|              4|\n",
      "+----+------------+---------------+\n",
      "only showing top 20 rows\n"
     ]
    }
   ],
   "source": [
    "lista = ['ano', 'mes', 'dia']\n",
    "\n",
    "for col in lista:\n",
    "    dist_orig = original.groupBy(col).count().withColumnRenamed(\"count\", \"qtd_original\")\n",
    "    dist_novo = padronizado.groupBy(col).count().withColumnRenamed(\"count\", \"qtd_padronizada\")\n",
    "\n",
    "    comparacao = (\n",
    "        dist_orig.join(dist_novo, col, \"outer\")\n",
    "        .select(col, \"qtd_original\", \"qtd_padronizada\")\n",
    "        .orderBy(F.asc(col))\n",
    "    )\n",
    "\n",
    "    comparacao.show()"
   ]
  },
  {
   "cell_type": "markdown",
   "id": "8104e8bb-7276-4d94-9622-3c9aadd00c49",
   "metadata": {},
   "source": [
    "- Analisando os nulos"
   ]
  },
  {
   "cell_type": "code",
   "execution_count": 16,
   "id": "18b817f5-a5cd-4c5f-a0a0-c7f6282a2713",
   "metadata": {},
   "outputs": [
    {
     "name": "stdout",
     "output_type": "stream",
     "text": [
      "Base original \n",
      "+----------------+---------------+--------------------+----+--------+----+----+----+\n",
      "|            nome|data_nascimento|municipio_nascimento|sexo|id_unico| dia| mes| ano|\n",
      "+----------------+---------------+--------------------+----+--------+----+----+----+\n",
      "|Ricardo Teixeira|  04/março/1993|              Recife|   F|      21|NULL|NULL|NULL|\n",
      "|     Pedro Gomes|  13/março/1973|              Manaus|   M|      47|NULL|NULL|NULL|\n",
      "+----------------+---------------+--------------------+----+--------+----+----+----+\n",
      "\n"
     ]
    }
   ],
   "source": [
    "print('Base original ')\n",
    "original.filter(F.col('dia').isNull()).show()"
   ]
  },
  {
   "cell_type": "code",
   "execution_count": 17,
   "id": "c250053b-2ffd-4cb9-8d93-062d70e0c31f",
   "metadata": {
    "scrolled": true
   },
   "outputs": [
    {
     "name": "stdout",
     "output_type": "stream",
     "text": [
      "Base tratada \n",
      "+--------------------+----+--------+---------------+----------------+---+---+----+\n",
      "|municipio_nascimento|sexo|id_unico|data_nascimento|            nome|dia|mes| ano|\n",
      "+--------------------+----+--------+---------------+----------------+---+---+----+\n",
      "|              Recife|   F|      21|     1993/03/04|Ricardo Teixeira| 04| 03|1993|\n",
      "|              Manaus|   M|      47|     1973/03/13|     Pedro Gomes| 13| 03|1973|\n",
      "+--------------------+----+--------+---------------+----------------+---+---+----+\n",
      "\n"
     ]
    }
   ],
   "source": [
    "print('Base tratada ')\n",
    "padronizado.filter((F.col('id_unico') == '21') | (F.col('id_unico') == '47')).show()"
   ]
  },
  {
   "cell_type": "markdown",
   "id": "66f05c98-c0b9-42b4-847f-60cbb06bb266",
   "metadata": {},
   "source": [
    "3. Máximo e minimo de cada uma das colunas (ano, mes e dia)"
   ]
  },
  {
   "cell_type": "code",
   "execution_count": 18,
   "id": "aef64d19-9793-4b23-86cb-7b923c07ccf4",
   "metadata": {},
   "outputs": [
    {
     "name": "stdout",
     "output_type": "stream",
     "text": [
      "+---------+----------+---------+----------+--------+\n",
      "|min_antes|min_depois|max_antes|max_depois|variavel|\n",
      "+---------+----------+---------+----------+--------+\n",
      "|     2010|      2010|     1970|      1970|     ano|\n",
      "|       12|        12|       01|        01|     mes|\n",
      "|       27|        27|       01|        01|     dia|\n",
      "+---------+----------+---------+----------+--------+\n",
      "\n"
     ]
    }
   ],
   "source": [
    "lista = ['ano', 'mes', 'dia']\n",
    "\n",
    "# Cria uma lista de dicionários para armazenar resultados\n",
    "resultados = []\n",
    "\n",
    "for col in lista:\n",
    "    # Seleciona min e max de cada coluna no dataframe original\n",
    "    min_orig, max_orig = original.select(\n",
    "        F.min(F.col(col)).alias(f\"min_{col}_antes\"),\n",
    "        F.max(F.col(col)).alias(f\"max_{col}_antes\")\n",
    "    ).first()\n",
    "\n",
    "    # Seleciona min e max de cada coluna no dataframe padronizado\n",
    "    min_pad, max_pad = padronizado.select(\n",
    "        F.min(F.col(col)).alias(f\"min_{col}_depois\"),\n",
    "        F.max(F.col(col)).alias(f\"max_{col}_depois\")\n",
    "    ).first()\n",
    "\n",
    "    # Adiciona os resultados à lista\n",
    "    resultados.append({\n",
    "        \"variavel\": col,\n",
    "        \"min_antes\": min_orig,\n",
    "        \"min_depois\": min_pad,\n",
    "        \"max_antes\": max_orig,\n",
    "        \"max_depois\": max_pad\n",
    "    })\n",
    "\n",
    "# Converte a lista em DataFrame do Spark para exibir bonitinho\n",
    "schema = [\"min_antes\", \"min_depois\", \"max_antes\",  \"max_depois\", \"variavel\"]\n",
    "resultado_df = spark.createDataFrame(resultados, schema)\n",
    "\n",
    "resultado_df.show()"
   ]
  },
  {
   "cell_type": "markdown",
   "id": "81de0d4e-6cbb-4730-bfb1-38919db0c218",
   "metadata": {},
   "source": [
    "### Validação da limpeza de nomes"
   ]
  },
  {
   "cell_type": "code",
   "execution_count": 19,
   "id": "c0f9fd51-8322-40aa-b7eb-715e31e4e63f",
   "metadata": {},
   "outputs": [],
   "source": [
    "df_padronizado = padronizado.withColumnRenamed('nome', 'nome_limpo')\n",
    "df_original = original.withColumnRenamed('nome', 'nome_original')"
   ]
  },
  {
   "cell_type": "code",
   "execution_count": 20,
   "id": "8d97d686-a1c9-4e5c-8c2d-c37c47ad594c",
   "metadata": {
    "scrolled": true
   },
   "outputs": [
    {
     "name": "stdout",
     "output_type": "stream",
     "text": [
      "+---------------+------+---------+-----------------+--------------+\n",
      "|total_registros|iguais|alterados|media_dif_tamanho|perc_alterados|\n",
      "+---------------+------+---------+-----------------+--------------+\n",
      "|100            |35    |65       |-2.77            |65.0          |\n",
      "+---------------+------+---------+-----------------+--------------+\n",
      "\n"
     ]
    }
   ],
   "source": [
    "comparacao_nomes = (\n",
    "    df_original\n",
    "    .join(df_padronizado, on=\"id_unico\", how=\"inner\")  # use a coluna chave (ex: id)\n",
    "    .withColumn(\"nome_igual\", F.col(\"nome_original\") == F.col(\"nome_limpo\"))\n",
    "    .withColumn(\"tam_antes\", F.length(\"nome_original\"))\n",
    "    .withColumn(\"tam_depois\", F.length(\"nome_limpo\"))\n",
    "    .withColumn(\"dif_tamanho\", F.col(\"tam_depois\") - F.col(\"tam_antes\"))\n",
    ")\n",
    "\n",
    "resumo = (\n",
    "    comparacao_nomes.agg(\n",
    "        F.count(\"*\").alias(\"total_registros\"),\n",
    "        F.sum(F.when(F.col(\"nome_igual\"), 1).otherwise(0)).alias(\"iguais\"),\n",
    "        F.sum(F.when(~F.col(\"nome_igual\"), 1).otherwise(0)).alias(\"alterados\"),\n",
    "        F.avg(F.col(\"dif_tamanho\")).alias(\"media_dif_tamanho\")\n",
    "    )\n",
    "    .withColumn(\"perc_alterados\", (F.col(\"alterados\") / F.col(\"total_registros\")) * 100)\n",
    ")\n",
    "\n",
    "resumo.show(truncate=False)"
   ]
  },
  {
   "cell_type": "code",
   "execution_count": 21,
   "id": "d40614af-b51e-459e-a909-e015c015bfc8",
   "metadata": {},
   "outputs": [
    {
     "name": "stdout",
     "output_type": "stream",
     "text": [
      "+----------------------+----------------+\n",
      "|nome_original         |nome_limpo      |\n",
      "+----------------------+----------------+\n",
      "|_ok Pedro Gomes       |Pedro Gomes     |\n",
      "|Camila _ok Monteiro   |Camila Monteiro |\n",
      "|_ok Ricardo Teixeira  |Ricardo Teixeira|\n",
      "|Paula Azevedo NULL    |Paula Azevedo   |\n",
      "|Fernanda Martins NULL |Fernanda Martins|\n",
      "|NULL Sofia Melo       |Sofia Melo      |\n",
      "|  André Pinto         |André Pinto     |\n",
      "|123 Bruno Santos      |Bruno Santos    |\n",
      "|@ Carla Nogueira      |Carla Nogueira  |\n",
      "|Maria Silva temp      |Maria Silva     |\n",
      "|temp Beatriz Costa    |Beatriz Costa   |\n",
      "|teste Camila Monteiro |Camila Monteiro |\n",
      "|### Maria Silva       |Maria Silva     |\n",
      "|Paula sem dado Azevedo|Paula Azevedo   |\n",
      "|Rafael @ Lima         |Rafael Lima     |\n",
      "|Aline Barbosa sem dado|Aline Barbosa   |\n",
      "|XX Ricardo Teixeira   |Ricardo Teixeira|\n",
      "|Paula sem dado Azevedo|Paula Azevedo   |\n",
      "|Fernanda Martins temp |Fernanda Martins|\n",
      "|Carlos Pereira XX     |Carlos Pereira  |\n",
      "+----------------------+----------------+\n",
      "only showing top 20 rows\n"
     ]
    }
   ],
   "source": [
    "### Amostra de alterações\n",
    "comparacao_nomes.filter(~F.col(\"nome_igual\")).select(\"nome_original\", \"nome_limpo\").show(20, truncate=False)"
   ]
  },
  {
   "cell_type": "code",
   "execution_count": 22,
   "id": "940e6ed0-07fd-4f88-8a68-1a790acc9a27",
   "metadata": {},
   "outputs": [
    {
     "name": "stdout",
     "output_type": "stream",
     "text": [
      "+------------------+\n",
      "|media_similaridade|\n",
      "+------------------+\n",
      "|0.9108842158080719|\n",
      "+------------------+\n",
      "\n"
     ]
    }
   ],
   "source": [
    "### Comparação de similaridade\n",
    "from pyspark.sql.functions import udf\n",
    "from pyspark.sql.types import DoubleType\n",
    "from difflib import SequenceMatcher\n",
    "\n",
    "similaridade_udf = udf(lambda a, b: float(SequenceMatcher(None, a or \"\", b or \"\").ratio()), DoubleType())\n",
    "\n",
    "df_sim = comparacao_nomes.withColumn(\"similaridade\", similaridade_udf(\"nome_original\", \"nome_limpo\"))\n",
    "\n",
    "df_sim.select(F.avg(\"similaridade\").alias(\"media_similaridade\")).show()"
   ]
  },
  {
   "cell_type": "code",
   "execution_count": 23,
   "id": "bde15770-cb8c-4d7a-933b-aa9d917fa17b",
   "metadata": {},
   "outputs": [],
   "source": [
    "import plotly.graph_objects as go\n",
    "from plotly.subplots import make_subplots"
   ]
  },
  {
   "cell_type": "code",
   "execution_count": 24,
   "id": "d3a1b41e-cc97-47ce-8813-8e9d367511c1",
   "metadata": {
    "scrolled": true
   },
   "outputs": [],
   "source": [
    "def comparar_distribuicao_datas(\n",
    "    df_original,\n",
    "    df_padronizado,\n",
    "    col_original: str,\n",
    "    col_padronizada: str,\n",
    "    titulo_geral: str = \"Comparação de distribuição de datas (antes x depois)\",\n",
    "    caminho_html: str = None\n",
    "):\n",
    "    \"\"\"\n",
    "    Gera visualizações lado a lado da distribuição de ano, mês e dia\n",
    "    entre data original e padronizada.\n",
    "\n",
    "    Args:\n",
    "        df_original: DataFrame PySpark com a coluna de data original\n",
    "        df_padronizado: DataFrame PySpark com a coluna de data padronizada\n",
    "        col_original: nome da coluna de data original\n",
    "        col_padronizada: nome da coluna de data padronizada\n",
    "        titulo_geral: título do gráfico (default: Comparação de distribuição de datas)\n",
    "        caminho_html: caminho opcional para salvar o HTML (ex: 'validacao_datas.html')\n",
    "\n",
    "    Returns:\n",
    "        fig: objeto Plotly Figure\n",
    "    \"\"\"\n",
    "\n",
    "    # ===== Converter para Pandas =====\n",
    "    pdf1 = original.select(\"ano\", \"mes\", \"dia\").toPandas()\n",
    "    pdf2 = padronizado.select(\"ano\", \"mes\", \"dia\").toPandas()\n",
    "\n",
    "    # ===== Criar figura 3 linhas × 2 colunas =====\n",
    "    fig = make_subplots(\n",
    "        rows=3, cols=2,\n",
    "        subplot_titles=(\n",
    "            \"Ano - Antes\", \"Ano - Depois\",\n",
    "            \"Mês - Antes\", \"Mês - Depois\",\n",
    "            \"Dia - Antes\", \"Dia - Depois\",\n",
    "        )\n",
    "    )\n",
    "\n",
    "    # ===== Histogramas =====\n",
    "    componentes = [\"ano\", \"mes\", \"dia\"]\n",
    "    cores = [\"indianred\", \"seagreen\"]\n",
    "\n",
    "    for i, comp in enumerate(componentes, start=1):\n",
    "        # Antes\n",
    "        fig.add_trace(\n",
    "            go.Histogram(x=pdf1[comp], name=f\"{comp.capitalize()} antes\", marker_color=cores[0], opacity=0.75),\n",
    "            row=i, col=1\n",
    "        )\n",
    "        # Depois\n",
    "        fig.add_trace(\n",
    "            go.Histogram(x=pdf2[comp], name=f\"{comp.capitalize()} depois\", marker_color=cores[1], opacity=0.75),\n",
    "            row=i, col=2\n",
    "        )\n",
    "\n",
    "    # ===== Layout =====\n",
    "    fig.update_layout(\n",
    "        title_text=titulo_geral,\n",
    "        height=1000,\n",
    "        width=1000,\n",
    "        bargap=0.2,\n",
    "        showlegend=False\n",
    "    )\n",
    "\n",
    "    for i, label in enumerate([\"Ano\", \"Mês\", \"Dia\"], start=1):\n",
    "        fig.update_xaxes(title_text=label, row=i, col=1)\n",
    "        fig.update_xaxes(title_text=label, row=i, col=2)\n",
    "        fig.update_yaxes(title_text=\"Contagem\", row=i, col=1)\n",
    "        fig.update_yaxes(title_text=\"Contagem\", row=i, col=2)\n",
    "\n",
    "    # ===== Exportar opcionalmente =====\n",
    "    if caminho_html:\n",
    "        fig.write_html(caminho_html)\n",
    "\n",
    "    return fig"
   ]
  },
  {
   "cell_type": "code",
   "execution_count": 25,
   "id": "de202533-a7b4-40c4-965d-34c7cdbafced",
   "metadata": {},
   "outputs": [],
   "source": [
    "fig = comparar_distribuicao_datas(\n",
    "    df_original = original,\n",
    "    df_padronizado = padronizado,\n",
    "    col_original = \"data_nascimento\",\n",
    "    col_padronizada = \"data_nascimento\",\n",
    "    titulo_geral = \"Distribuição de datas antes e depois da padronização\",\n",
    "    caminho_html = \"comparacao_datas.html\"  # opcional\n",
    ")\n"
   ]
  },
  {
   "cell_type": "code",
   "execution_count": 26,
   "id": "f25e53fe-715f-41ae-9ae2-4c78c137b9a0",
   "metadata": {
    "scrolled": true
   },
   "outputs": [],
   "source": [
    "# import plotly.io as pio\n",
    "# pio.renderers.default = \"iframe\"\n",
    "# fig.show()"
   ]
  },
  {
   "cell_type": "code",
   "execution_count": 27,
   "id": "98f269c5-057d-4b7d-8317-518fabde58b4",
   "metadata": {},
   "outputs": [
    {
     "data": {
      "text/html": [
       "<div>                        <script type=\"text/javascript\">window.PlotlyConfig = {MathJaxConfig: 'local'};</script>\n",
       "        <script charset=\"utf-8\" src=\"https://cdn.plot.ly/plotly-3.1.1.min.js\" integrity=\"sha256-HUEFyfiTnZJxCxur99FjbKYTvKSzwDaD3/x5TqHpFu4=\" crossorigin=\"anonymous\"></script>                <div id=\"0201e15d-fe51-4e46-bd8f-59d4fabb66cf\" class=\"plotly-graph-div\" style=\"height:1000px; width:1000px;\"></div>            <script type=\"text/javascript\">                window.PLOTLYENV=window.PLOTLYENV || {};                                if (document.getElementById(\"0201e15d-fe51-4e46-bd8f-59d4fabb66cf\")) {                    Plotly.newPlot(                        \"0201e15d-fe51-4e46-bd8f-59d4fabb66cf\",                        [{\"marker\":{\"color\":\"indianred\"},\"name\":\"Ano antes\",\"opacity\":0.75,\"x\":[\"1997\",\"2001\",\"1973\",\"1990\",\"2010\",\"1976\",\"2003\",\"2008\",\"1971\",\"1997\",\"1985\",\"2002\",\"1978\",\"1997\",\"2010\",\"1976\",\"1974\",\"1994\",\"2009\",\"1978\",null,\"1990\",\"1985\",\"1995\",\"2009\",\"2010\",\"1974\",\"1984\",\"1992\",\"1976\",\"1998\",\"1996\",\"1986\",\"1993\",\"1993\",\"1989\",\"1973\",\"2001\",\"2001\",\"1987\",\"2001\",\"1982\",\"1993\",\"2003\",\"1998\",\"2003\",null,\"1987\",\"1981\",\"1977\",\"1974\",\"2004\",\"2006\",\"1985\",\"2006\",\"1999\",\"1985\",\"2003\",\"1984\",\"2008\",\"1976\",\"1976\",\"1994\",\"2003\",\"2001\",\"1982\",\"1999\",\"1975\",\"1982\",\"2004\",\"1974\",\"2007\",\"2010\",\"1979\",\"1985\",\"1980\",\"1994\",\"1973\",\"1979\",\"1970\",\"1984\",\"1978\",\"1985\",\"2002\",\"1988\",\"2006\",\"1973\",\"1989\",\"1982\",\"1985\",\"2000\",\"1980\",\"1990\",\"1985\",\"1995\",\"2008\",\"2009\",\"1986\",\"1981\",\"1994\"],\"type\":\"histogram\",\"xaxis\":\"x\",\"yaxis\":\"y\"},{\"marker\":{\"color\":\"seagreen\"},\"name\":\"Ano depois\",\"opacity\":0.75,\"x\":[\"1997\",\"2001\",\"1973\",\"1990\",\"2010\",\"1976\",\"2003\",\"2008\",\"1971\",\"1997\",\"1985\",\"2002\",\"1978\",\"1997\",\"2010\",\"1976\",\"1974\",\"1994\",\"2009\",\"1978\",\"1993\",\"1990\",\"1985\",\"1995\",\"2009\",\"2010\",\"1974\",\"1984\",\"1992\",\"1976\",\"1998\",\"1996\",\"1986\",\"1993\",\"1993\",\"1989\",\"1973\",\"2001\",\"2001\",\"1987\",\"2001\",\"1982\",\"1993\",\"2003\",\"1998\",\"2003\",\"1973\",\"1987\",\"1981\",\"1977\",\"1974\",\"2004\",\"2006\",\"1985\",\"2006\",\"1999\",\"1985\",\"2003\",\"1984\",\"2008\",\"1976\",\"1976\",\"1994\",\"2003\",\"2001\",\"1982\",\"1999\",\"1975\",\"1982\",\"2004\",\"1974\",\"2007\",\"2010\",\"1979\",\"1985\",\"1980\",\"1994\",\"1973\",\"1979\",\"1970\",\"1984\",\"1978\",\"1985\",\"2002\",\"1988\",\"2006\",\"1973\",\"1989\",\"1982\",\"1985\",\"2000\",\"1980\",\"1990\",\"1985\",\"1995\",\"2008\",\"2009\",\"1986\",\"1981\",\"1994\"],\"type\":\"histogram\",\"xaxis\":\"x2\",\"yaxis\":\"y2\"},{\"marker\":{\"color\":\"indianred\"},\"name\":\"Mes antes\",\"opacity\":0.75,\"x\":[\"02\",\"07\",\"02\",\"06\",\"06\",\"06\",\"11\",\"10\",\"01\",\"10\",\"11\",\"02\",\"01\",\"08\",\"02\",\"12\",\"09\",\"12\",\"08\",\"05\",null,\"01\",\"02\",\"10\",\"06\",\"01\",\"12\",\"12\",\"01\",\"09\",\"02\",\"02\",\"05\",\"10\",\"01\",\"11\",\"04\",\"05\",\"04\",\"03\",\"01\",\"06\",\"10\",\"06\",\"05\",\"12\",null,\"08\",\"01\",\"07\",\"09\",\"02\",\"08\",\"10\",\"05\",\"12\",\"05\",\"11\",\"11\",\"11\",\"04\",\"06\",\"04\",\"08\",\"02\",\"05\",\"07\",\"05\",\"12\",\"04\",\"11\",\"01\",\"07\",\"04\",\"11\",\"12\",\"03\",\"07\",\"08\",\"02\",\"08\",\"08\",\"04\",\"02\",\"07\",\"03\",\"06\",\"11\",\"01\",\"08\",\"09\",\"07\",\"04\",\"05\",\"07\",\"10\",\"06\",\"04\",\"09\",\"09\"],\"type\":\"histogram\",\"xaxis\":\"x3\",\"yaxis\":\"y3\"},{\"marker\":{\"color\":\"seagreen\"},\"name\":\"Mes depois\",\"opacity\":0.75,\"x\":[\"02\",\"07\",\"02\",\"06\",\"06\",\"06\",\"11\",\"10\",\"01\",\"10\",\"11\",\"02\",\"01\",\"08\",\"02\",\"12\",\"09\",\"12\",\"08\",\"05\",\"03\",\"01\",\"02\",\"10\",\"06\",\"01\",\"12\",\"12\",\"01\",\"09\",\"02\",\"02\",\"05\",\"10\",\"01\",\"11\",\"04\",\"05\",\"04\",\"03\",\"01\",\"06\",\"10\",\"06\",\"05\",\"12\",\"03\",\"08\",\"01\",\"07\",\"09\",\"02\",\"08\",\"10\",\"05\",\"12\",\"05\",\"11\",\"11\",\"11\",\"04\",\"06\",\"04\",\"08\",\"02\",\"05\",\"07\",\"05\",\"12\",\"04\",\"11\",\"01\",\"07\",\"04\",\"11\",\"12\",\"03\",\"07\",\"08\",\"02\",\"08\",\"08\",\"04\",\"02\",\"07\",\"03\",\"06\",\"11\",\"01\",\"08\",\"09\",\"07\",\"04\",\"05\",\"07\",\"10\",\"06\",\"04\",\"09\",\"09\"],\"type\":\"histogram\",\"xaxis\":\"x4\",\"yaxis\":\"y4\"},{\"marker\":{\"color\":\"indianred\"},\"name\":\"Dia antes\",\"opacity\":0.75,\"x\":[\"15\",\"16\",\"12\",\"15\",\"08\",\"08\",\"20\",\"13\",\"07\",\"20\",\"09\",\"06\",\"16\",\"04\",\"15\",\"24\",\"10\",\"27\",\"26\",\"26\",null,\"05\",\"27\",\"25\",\"07\",\"17\",\"09\",\"02\",\"15\",\"08\",\"09\",\"22\",\"26\",\"21\",\"06\",\"09\",\"07\",\"14\",\"16\",\"17\",\"17\",\"18\",\"27\",\"11\",\"16\",\"08\",null,\"15\",\"27\",\"02\",\"20\",\"13\",\"13\",\"17\",\"15\",\"13\",\"04\",\"24\",\"23\",\"09\",\"17\",\"02\",\"15\",\"23\",\"07\",\"17\",\"11\",\"10\",\"06\",\"09\",\"11\",\"08\",\"16\",\"16\",\"25\",\"10\",\"27\",\"15\",\"22\",\"12\",\"20\",\"27\",\"01\",\"24\",\"04\",\"04\",\"08\",\"26\",\"27\",\"05\",\"11\",\"03\",\"12\",\"02\",\"23\",\"24\",\"09\",\"04\",\"26\",\"14\"],\"type\":\"histogram\",\"xaxis\":\"x5\",\"yaxis\":\"y5\"},{\"marker\":{\"color\":\"seagreen\"},\"name\":\"Dia depois\",\"opacity\":0.75,\"x\":[\"15\",\"16\",\"12\",\"15\",\"08\",\"08\",\"20\",\"13\",\"07\",\"20\",\"09\",\"06\",\"16\",\"04\",\"15\",\"24\",\"10\",\"27\",\"26\",\"26\",\"04\",\"05\",\"27\",\"25\",\"07\",\"17\",\"09\",\"02\",\"15\",\"08\",\"09\",\"22\",\"26\",\"21\",\"06\",\"09\",\"07\",\"14\",\"16\",\"17\",\"17\",\"18\",\"27\",\"11\",\"16\",\"08\",\"13\",\"15\",\"27\",\"02\",\"20\",\"13\",\"13\",\"17\",\"15\",\"13\",\"04\",\"24\",\"23\",\"09\",\"17\",\"02\",\"15\",\"23\",\"07\",\"17\",\"11\",\"10\",\"06\",\"09\",\"11\",\"08\",\"16\",\"16\",\"25\",\"10\",\"27\",\"15\",\"22\",\"12\",\"20\",\"27\",\"01\",\"24\",\"04\",\"04\",\"08\",\"26\",\"27\",\"05\",\"11\",\"03\",\"12\",\"02\",\"23\",\"24\",\"09\",\"04\",\"26\",\"14\"],\"type\":\"histogram\",\"xaxis\":\"x6\",\"yaxis\":\"y6\"}],                        {\"template\":{\"data\":{\"histogram2dcontour\":[{\"type\":\"histogram2dcontour\",\"colorbar\":{\"outlinewidth\":0,\"ticks\":\"\"},\"colorscale\":[[0.0,\"#0d0887\"],[0.1111111111111111,\"#46039f\"],[0.2222222222222222,\"#7201a8\"],[0.3333333333333333,\"#9c179e\"],[0.4444444444444444,\"#bd3786\"],[0.5555555555555556,\"#d8576b\"],[0.6666666666666666,\"#ed7953\"],[0.7777777777777778,\"#fb9f3a\"],[0.8888888888888888,\"#fdca26\"],[1.0,\"#f0f921\"]]}],\"choropleth\":[{\"type\":\"choropleth\",\"colorbar\":{\"outlinewidth\":0,\"ticks\":\"\"}}],\"histogram2d\":[{\"type\":\"histogram2d\",\"colorbar\":{\"outlinewidth\":0,\"ticks\":\"\"},\"colorscale\":[[0.0,\"#0d0887\"],[0.1111111111111111,\"#46039f\"],[0.2222222222222222,\"#7201a8\"],[0.3333333333333333,\"#9c179e\"],[0.4444444444444444,\"#bd3786\"],[0.5555555555555556,\"#d8576b\"],[0.6666666666666666,\"#ed7953\"],[0.7777777777777778,\"#fb9f3a\"],[0.8888888888888888,\"#fdca26\"],[1.0,\"#f0f921\"]]}],\"heatmap\":[{\"type\":\"heatmap\",\"colorbar\":{\"outlinewidth\":0,\"ticks\":\"\"},\"colorscale\":[[0.0,\"#0d0887\"],[0.1111111111111111,\"#46039f\"],[0.2222222222222222,\"#7201a8\"],[0.3333333333333333,\"#9c179e\"],[0.4444444444444444,\"#bd3786\"],[0.5555555555555556,\"#d8576b\"],[0.6666666666666666,\"#ed7953\"],[0.7777777777777778,\"#fb9f3a\"],[0.8888888888888888,\"#fdca26\"],[1.0,\"#f0f921\"]]}],\"contourcarpet\":[{\"type\":\"contourcarpet\",\"colorbar\":{\"outlinewidth\":0,\"ticks\":\"\"}}],\"contour\":[{\"type\":\"contour\",\"colorbar\":{\"outlinewidth\":0,\"ticks\":\"\"},\"colorscale\":[[0.0,\"#0d0887\"],[0.1111111111111111,\"#46039f\"],[0.2222222222222222,\"#7201a8\"],[0.3333333333333333,\"#9c179e\"],[0.4444444444444444,\"#bd3786\"],[0.5555555555555556,\"#d8576b\"],[0.6666666666666666,\"#ed7953\"],[0.7777777777777778,\"#fb9f3a\"],[0.8888888888888888,\"#fdca26\"],[1.0,\"#f0f921\"]]}],\"surface\":[{\"type\":\"surface\",\"colorbar\":{\"outlinewidth\":0,\"ticks\":\"\"},\"colorscale\":[[0.0,\"#0d0887\"],[0.1111111111111111,\"#46039f\"],[0.2222222222222222,\"#7201a8\"],[0.3333333333333333,\"#9c179e\"],[0.4444444444444444,\"#bd3786\"],[0.5555555555555556,\"#d8576b\"],[0.6666666666666666,\"#ed7953\"],[0.7777777777777778,\"#fb9f3a\"],[0.8888888888888888,\"#fdca26\"],[1.0,\"#f0f921\"]]}],\"mesh3d\":[{\"type\":\"mesh3d\",\"colorbar\":{\"outlinewidth\":0,\"ticks\":\"\"}}],\"scatter\":[{\"fillpattern\":{\"fillmode\":\"overlay\",\"size\":10,\"solidity\":0.2},\"type\":\"scatter\"}],\"parcoords\":[{\"type\":\"parcoords\",\"line\":{\"colorbar\":{\"outlinewidth\":0,\"ticks\":\"\"}}}],\"scatterpolargl\":[{\"type\":\"scatterpolargl\",\"marker\":{\"colorbar\":{\"outlinewidth\":0,\"ticks\":\"\"}}}],\"bar\":[{\"error_x\":{\"color\":\"#2a3f5f\"},\"error_y\":{\"color\":\"#2a3f5f\"},\"marker\":{\"line\":{\"color\":\"#E5ECF6\",\"width\":0.5},\"pattern\":{\"fillmode\":\"overlay\",\"size\":10,\"solidity\":0.2}},\"type\":\"bar\"}],\"scattergeo\":[{\"type\":\"scattergeo\",\"marker\":{\"colorbar\":{\"outlinewidth\":0,\"ticks\":\"\"}}}],\"scatterpolar\":[{\"type\":\"scatterpolar\",\"marker\":{\"colorbar\":{\"outlinewidth\":0,\"ticks\":\"\"}}}],\"histogram\":[{\"marker\":{\"pattern\":{\"fillmode\":\"overlay\",\"size\":10,\"solidity\":0.2}},\"type\":\"histogram\"}],\"scattergl\":[{\"type\":\"scattergl\",\"marker\":{\"colorbar\":{\"outlinewidth\":0,\"ticks\":\"\"}}}],\"scatter3d\":[{\"type\":\"scatter3d\",\"line\":{\"colorbar\":{\"outlinewidth\":0,\"ticks\":\"\"}},\"marker\":{\"colorbar\":{\"outlinewidth\":0,\"ticks\":\"\"}}}],\"scattermap\":[{\"type\":\"scattermap\",\"marker\":{\"colorbar\":{\"outlinewidth\":0,\"ticks\":\"\"}}}],\"scattermapbox\":[{\"type\":\"scattermapbox\",\"marker\":{\"colorbar\":{\"outlinewidth\":0,\"ticks\":\"\"}}}],\"scatterternary\":[{\"type\":\"scatterternary\",\"marker\":{\"colorbar\":{\"outlinewidth\":0,\"ticks\":\"\"}}}],\"scattercarpet\":[{\"type\":\"scattercarpet\",\"marker\":{\"colorbar\":{\"outlinewidth\":0,\"ticks\":\"\"}}}],\"carpet\":[{\"aaxis\":{\"endlinecolor\":\"#2a3f5f\",\"gridcolor\":\"white\",\"linecolor\":\"white\",\"minorgridcolor\":\"white\",\"startlinecolor\":\"#2a3f5f\"},\"baxis\":{\"endlinecolor\":\"#2a3f5f\",\"gridcolor\":\"white\",\"linecolor\":\"white\",\"minorgridcolor\":\"white\",\"startlinecolor\":\"#2a3f5f\"},\"type\":\"carpet\"}],\"table\":[{\"cells\":{\"fill\":{\"color\":\"#EBF0F8\"},\"line\":{\"color\":\"white\"}},\"header\":{\"fill\":{\"color\":\"#C8D4E3\"},\"line\":{\"color\":\"white\"}},\"type\":\"table\"}],\"barpolar\":[{\"marker\":{\"line\":{\"color\":\"#E5ECF6\",\"width\":0.5},\"pattern\":{\"fillmode\":\"overlay\",\"size\":10,\"solidity\":0.2}},\"type\":\"barpolar\"}],\"pie\":[{\"automargin\":true,\"type\":\"pie\"}]},\"layout\":{\"autotypenumbers\":\"strict\",\"colorway\":[\"#636efa\",\"#EF553B\",\"#00cc96\",\"#ab63fa\",\"#FFA15A\",\"#19d3f3\",\"#FF6692\",\"#B6E880\",\"#FF97FF\",\"#FECB52\"],\"font\":{\"color\":\"#2a3f5f\"},\"hovermode\":\"closest\",\"hoverlabel\":{\"align\":\"left\"},\"paper_bgcolor\":\"white\",\"plot_bgcolor\":\"#E5ECF6\",\"polar\":{\"bgcolor\":\"#E5ECF6\",\"angularaxis\":{\"gridcolor\":\"white\",\"linecolor\":\"white\",\"ticks\":\"\"},\"radialaxis\":{\"gridcolor\":\"white\",\"linecolor\":\"white\",\"ticks\":\"\"}},\"ternary\":{\"bgcolor\":\"#E5ECF6\",\"aaxis\":{\"gridcolor\":\"white\",\"linecolor\":\"white\",\"ticks\":\"\"},\"baxis\":{\"gridcolor\":\"white\",\"linecolor\":\"white\",\"ticks\":\"\"},\"caxis\":{\"gridcolor\":\"white\",\"linecolor\":\"white\",\"ticks\":\"\"}},\"coloraxis\":{\"colorbar\":{\"outlinewidth\":0,\"ticks\":\"\"}},\"colorscale\":{\"sequential\":[[0.0,\"#0d0887\"],[0.1111111111111111,\"#46039f\"],[0.2222222222222222,\"#7201a8\"],[0.3333333333333333,\"#9c179e\"],[0.4444444444444444,\"#bd3786\"],[0.5555555555555556,\"#d8576b\"],[0.6666666666666666,\"#ed7953\"],[0.7777777777777778,\"#fb9f3a\"],[0.8888888888888888,\"#fdca26\"],[1.0,\"#f0f921\"]],\"sequentialminus\":[[0.0,\"#0d0887\"],[0.1111111111111111,\"#46039f\"],[0.2222222222222222,\"#7201a8\"],[0.3333333333333333,\"#9c179e\"],[0.4444444444444444,\"#bd3786\"],[0.5555555555555556,\"#d8576b\"],[0.6666666666666666,\"#ed7953\"],[0.7777777777777778,\"#fb9f3a\"],[0.8888888888888888,\"#fdca26\"],[1.0,\"#f0f921\"]],\"diverging\":[[0,\"#8e0152\"],[0.1,\"#c51b7d\"],[0.2,\"#de77ae\"],[0.3,\"#f1b6da\"],[0.4,\"#fde0ef\"],[0.5,\"#f7f7f7\"],[0.6,\"#e6f5d0\"],[0.7,\"#b8e186\"],[0.8,\"#7fbc41\"],[0.9,\"#4d9221\"],[1,\"#276419\"]]},\"xaxis\":{\"gridcolor\":\"white\",\"linecolor\":\"white\",\"ticks\":\"\",\"title\":{\"standoff\":15},\"zerolinecolor\":\"white\",\"automargin\":true,\"zerolinewidth\":2},\"yaxis\":{\"gridcolor\":\"white\",\"linecolor\":\"white\",\"ticks\":\"\",\"title\":{\"standoff\":15},\"zerolinecolor\":\"white\",\"automargin\":true,\"zerolinewidth\":2},\"scene\":{\"xaxis\":{\"backgroundcolor\":\"#E5ECF6\",\"gridcolor\":\"white\",\"linecolor\":\"white\",\"showbackground\":true,\"ticks\":\"\",\"zerolinecolor\":\"white\",\"gridwidth\":2},\"yaxis\":{\"backgroundcolor\":\"#E5ECF6\",\"gridcolor\":\"white\",\"linecolor\":\"white\",\"showbackground\":true,\"ticks\":\"\",\"zerolinecolor\":\"white\",\"gridwidth\":2},\"zaxis\":{\"backgroundcolor\":\"#E5ECF6\",\"gridcolor\":\"white\",\"linecolor\":\"white\",\"showbackground\":true,\"ticks\":\"\",\"zerolinecolor\":\"white\",\"gridwidth\":2}},\"shapedefaults\":{\"line\":{\"color\":\"#2a3f5f\"}},\"annotationdefaults\":{\"arrowcolor\":\"#2a3f5f\",\"arrowhead\":0,\"arrowwidth\":1},\"geo\":{\"bgcolor\":\"white\",\"landcolor\":\"#E5ECF6\",\"subunitcolor\":\"white\",\"showland\":true,\"showlakes\":true,\"lakecolor\":\"white\"},\"title\":{\"x\":0.05},\"mapbox\":{\"style\":\"light\"}}},\"xaxis\":{\"anchor\":\"y\",\"domain\":[0.0,0.45],\"title\":{\"text\":\"Ano\"}},\"yaxis\":{\"anchor\":\"x\",\"domain\":[0.7777777777777778,1.0],\"title\":{\"text\":\"Contagem\"}},\"xaxis2\":{\"anchor\":\"y2\",\"domain\":[0.55,1.0],\"title\":{\"text\":\"Ano\"}},\"yaxis2\":{\"anchor\":\"x2\",\"domain\":[0.7777777777777778,1.0],\"title\":{\"text\":\"Contagem\"}},\"xaxis3\":{\"anchor\":\"y3\",\"domain\":[0.0,0.45],\"title\":{\"text\":\"M\\u00eas\"}},\"yaxis3\":{\"anchor\":\"x3\",\"domain\":[0.3888888888888889,0.6111111111111112],\"title\":{\"text\":\"Contagem\"}},\"xaxis4\":{\"anchor\":\"y4\",\"domain\":[0.55,1.0],\"title\":{\"text\":\"M\\u00eas\"}},\"yaxis4\":{\"anchor\":\"x4\",\"domain\":[0.3888888888888889,0.6111111111111112],\"title\":{\"text\":\"Contagem\"}},\"xaxis5\":{\"anchor\":\"y5\",\"domain\":[0.0,0.45],\"title\":{\"text\":\"Dia\"}},\"yaxis5\":{\"anchor\":\"x5\",\"domain\":[0.0,0.22222222222222224],\"title\":{\"text\":\"Contagem\"}},\"xaxis6\":{\"anchor\":\"y6\",\"domain\":[0.55,1.0],\"title\":{\"text\":\"Dia\"}},\"yaxis6\":{\"anchor\":\"x6\",\"domain\":[0.0,0.22222222222222224],\"title\":{\"text\":\"Contagem\"}},\"annotations\":[{\"font\":{\"size\":16},\"showarrow\":false,\"text\":\"Ano - Antes\",\"x\":0.225,\"xanchor\":\"center\",\"xref\":\"paper\",\"y\":1.0,\"yanchor\":\"bottom\",\"yref\":\"paper\"},{\"font\":{\"size\":16},\"showarrow\":false,\"text\":\"Ano - Depois\",\"x\":0.775,\"xanchor\":\"center\",\"xref\":\"paper\",\"y\":1.0,\"yanchor\":\"bottom\",\"yref\":\"paper\"},{\"font\":{\"size\":16},\"showarrow\":false,\"text\":\"M\\u00eas - Antes\",\"x\":0.225,\"xanchor\":\"center\",\"xref\":\"paper\",\"y\":0.6111111111111112,\"yanchor\":\"bottom\",\"yref\":\"paper\"},{\"font\":{\"size\":16},\"showarrow\":false,\"text\":\"M\\u00eas - Depois\",\"x\":0.775,\"xanchor\":\"center\",\"xref\":\"paper\",\"y\":0.6111111111111112,\"yanchor\":\"bottom\",\"yref\":\"paper\"},{\"font\":{\"size\":16},\"showarrow\":false,\"text\":\"Dia - Antes\",\"x\":0.225,\"xanchor\":\"center\",\"xref\":\"paper\",\"y\":0.22222222222222224,\"yanchor\":\"bottom\",\"yref\":\"paper\"},{\"font\":{\"size\":16},\"showarrow\":false,\"text\":\"Dia - Depois\",\"x\":0.775,\"xanchor\":\"center\",\"xref\":\"paper\",\"y\":0.22222222222222224,\"yanchor\":\"bottom\",\"yref\":\"paper\"}],\"title\":{\"text\":\"Distribui\\u00e7\\u00e3o de datas antes e depois da padroniza\\u00e7\\u00e3o\"},\"height\":1000,\"width\":1000,\"bargap\":0.2,\"showlegend\":false},                        {\"responsive\": true}                    )                };            </script>        </div>"
      ],
      "text/plain": [
       "<IPython.core.display.HTML object>"
      ]
     },
     "execution_count": 27,
     "metadata": {},
     "output_type": "execute_result"
    }
   ],
   "source": [
    "from IPython.display import HTML\n",
    "HTML(fig.to_html(include_plotlyjs='cdn', full_html=False))"
   ]
  },
  {
   "cell_type": "code",
   "execution_count": 28,
   "id": "0a9d9474-accc-4f04-996f-737a7b41141d",
   "metadata": {},
   "outputs": [
    {
     "name": "stdout",
     "output_type": "stream",
     "text": [
      "[NbConvertApp] Converting notebook validando_padronizacao.ipynb to html\n",
      "[NbConvertApp] Writing 307115 bytes to validando_padronizacao.html\n"
     ]
    }
   ],
   "source": [
    "#download HTML\n",
    "!jupyter nbconvert --to html --no-input validando_padronizacao.ipynb"
   ]
  }
 ],
 "metadata": {
  "kernelspec": {
   "display_name": "Python (Spark Venv)",
   "language": "python",
   "name": "meu_ambiente"
  },
  "language_info": {
   "codemirror_mode": {
    "name": "ipython",
    "version": 3
   },
   "file_extension": ".py",
   "mimetype": "text/x-python",
   "name": "python",
   "nbconvert_exporter": "python",
   "pygments_lexer": "ipython3",
   "version": "3.12.3"
  }
 },
 "nbformat": 4,
 "nbformat_minor": 5
}
